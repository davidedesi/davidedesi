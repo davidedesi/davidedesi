{
 "cells": [
  {
   "cell_type": "markdown",
   "metadata": {},
   "source": [
    "# Introduction\n",
    "\n",
    "These are some exercises and quizzes from the __\"Become a Probability & Statistics Master\"__ (https://www.udemy.com/course/statistics-probability/) course on Udemy.\n",
    "\n",
    "Main topics of this notebook are\n",
    "\n",
    "- Data distributions\n",
    "- Probability\n",
    "- Discrete random variables\n",
    "\n",
    "---"
   ]
  },
  {
   "cell_type": "code",
   "execution_count": 52,
   "metadata": {},
   "outputs": [],
   "source": [
    "# Importing useful libraries\n",
    "\n",
    "import pandas as pd\n",
    "import math\n",
    "from math import sqrt\n",
    "import numpy as np\n",
    "import statistics as st\n",
    "import scipy\n",
    "from scipy import stats\n",
    "import matplotlib.pyplot as plt\n",
    "import seaborn as sns"
   ]
  },
  {
   "cell_type": "markdown",
   "metadata": {},
   "source": [
    "# 03 Data distributions\n",
    "Link: https://drive.google.com/drive/folders/1Vu56xgUToj9XqvnMqDeNCxWJmDFGSgum\n",
    "\n",
    "---\n",
    "### 01 Mean, variance, and standard deviation"
   ]
  },
  {
   "cell_type": "markdown",
   "metadata": {},
   "source": [
    "__1.Question:__ Find the mean and population standard deviation for the data set."
   ]
  },
  {
   "cell_type": "code",
   "execution_count": 53,
   "metadata": {},
   "outputs": [
    {
     "name": "stdout",
     "output_type": "stream",
     "text": [
      "The mean is 3.2\n",
      "The standard deviation is 1.4697\n"
     ]
    }
   ],
   "source": [
    "data = [6,3,3,2,2]\n",
    "\n",
    "mean = np.mean(data)\n",
    "std = st.pstdev(data) #pstdev for population standard deviation\n",
    "\n",
    "print(\"The mean is\",(mean))\n",
    "print(\"The standard deviation is\",round(std,4))"
   ]
  },
  {
   "cell_type": "markdown",
   "metadata": {},
   "source": [
    "__2.Question:__ Find the mean and sample standard deviation for the data set."
   ]
  },
  {
   "cell_type": "code",
   "execution_count": 54,
   "metadata": {},
   "outputs": [
    {
     "name": "stdout",
     "output_type": "stream",
     "text": [
      "The mean is 6.4\n",
      "The standard deviation is 3.3615\n"
     ]
    }
   ],
   "source": [
    "data = [2,4,7,9,10]\n",
    "\n",
    "mean = np.mean(data)\n",
    "std = st.stdev(data) #stdev for sample standard deviation\n",
    "\n",
    "print(\"The mean is\",(mean))\n",
    "print(\"The standard deviation is\",round(std,4))"
   ]
  },
  {
   "cell_type": "markdown",
   "metadata": {},
   "source": [
    "__3.Question:__ Consider the small population: 1, 2, 1. If each number is increased by 4, how will the population standard deviation change?"
   ]
  },
  {
   "cell_type": "code",
   "execution_count": 55,
   "metadata": {},
   "outputs": [
    {
     "name": "stdout",
     "output_type": "stream",
     "text": [
      "The standard deviation of data is 0.4714\n",
      "The standard deviation of data_increased is 0.4714\n",
      "Both population standard deviations are the same.\n"
     ]
    }
   ],
   "source": [
    "data = [1,2,1]\n",
    "data_increased = np.array(data) + 4 #using numopoy array as an easy way to add a number to all the element of the list\n",
    "\n",
    "std = st.pstdev(data) #pstdev for population standard deviation\n",
    "std_increased = np.std(data_increased) #using numpy standard deviation for the array\n",
    "\n",
    "print(\"The standard deviation of data is\",round(std,4))\n",
    "print(\"The standard deviation of data_increased is\",round(std_increased,4))\n",
    "print(\"Both population standard deviations are the same.\")"
   ]
  },
  {
   "cell_type": "markdown",
   "metadata": {},
   "source": [
    "---\n",
    "### 04 Normal distributions and z-scores"
   ]
  },
  {
   "cell_type": "markdown",
   "metadata": {},
   "source": [
    "__1.Question:__ A third grade class has a mean height of 50′′ with a standard deviation of 3′′. What is the approximate percentile of a third grader who is 53′′ tall?"
   ]
  },
  {
   "cell_type": "code",
   "execution_count": 56,
   "metadata": {},
   "outputs": [],
   "source": [
    "mean = 50\n",
    "std = 3\n",
    "x =53"
   ]
  },
  {
   "cell_type": "code",
   "execution_count": 57,
   "metadata": {},
   "outputs": [
    {
     "data": {
      "text/plain": [
       "1.0"
      ]
     },
     "execution_count": 57,
     "metadata": {},
     "output_type": "execute_result"
    }
   ],
   "source": [
    "z = round((x - mean)/std,4)\n",
    "z"
   ]
  },
  {
   "cell_type": "code",
   "execution_count": 58,
   "metadata": {},
   "outputs": [
    {
     "name": "stdout",
     "output_type": "stream",
     "text": [
      "The approximate percentile of a third grader who is 53′′ tall is 0.8413\n"
     ]
    }
   ],
   "source": [
    "# Using norm cdf function to find the area under the curve, having z-score = 1 \n",
    "p = stats.norm.cdf(z)\n",
    "\n",
    "print(\"The approximate percentile of a third grader who is 53′′ tall is\",round(p,4))"
   ]
  },
  {
   "cell_type": "markdown",
   "metadata": {},
   "source": [
    "# 04 Probability\n",
    "Link: https://drive.google.com/drive/folders/1Vu56xgUToj9XqvnMqDeNCxWJmDFGSgum\n",
    "\n",
    "---\n",
    "### 03 Independent and dependent events and conditional probability"
   ]
  },
  {
   "cell_type": "markdown",
   "metadata": {},
   "source": [
    "__1.Question:__ Events A and B are independent events. Find P(B) if P(A and B) = 0.25 and P(A) = 0.5."
   ]
  },
  {
   "cell_type": "code",
   "execution_count": 59,
   "metadata": {},
   "outputs": [
    {
     "name": "stdout",
     "output_type": "stream",
     "text": [
      "The probability of B is 0.5\n"
     ]
    }
   ],
   "source": [
    "# Since the events are independent, events we know that\n",
    "# P(A and B) = P(A) ⋅ P(B) \n",
    "\n",
    "pa = 0.5\n",
    "pab = 0.25\n",
    "pb = pab/pa\n",
    "\n",
    "print(\"The probability of B is\",round(pb,4))"
   ]
  },
  {
   "cell_type": "markdown",
   "metadata": {},
   "source": [
    "__2.Question:__ Suppose that Katie rolls a six-sided die twice. Event A is that the first roll is a 6, so P(A) is the probability that the first roll is a 6. Event B is that the second roll is a 6, so P(B) is the probability that the second roll is a 6."
   ]
  },
  {
   "cell_type": "code",
   "execution_count": 60,
   "metadata": {},
   "outputs": [
    {
     "name": "stdout",
     "output_type": "stream",
     "text": [
      "The probability of getting twice 6 after rolling the dice twice is 0.0278\n"
     ]
    }
   ],
   "source": [
    "# Since the events are independent, events we know that\n",
    "# P(A and B) = P(A) ⋅ P(B) \n",
    "\n",
    "pa = 1/6\n",
    "pb = 1/6\n",
    "pab = pa*pb\n",
    "\n",
    "print(\"The probability of getting twice 6 after rolling the dice twice is\",round(pab,4))"
   ]
  },
  {
   "cell_type": "markdown",
   "metadata": {},
   "source": [
    "# 05 Dicrete random variables\n",
    "Link: https://drive.google.com/drive/folders/1Vu56xgUToj9XqvnMqDeNCxWJmDFGSgum\n",
    "\n",
    "---\n",
    "### 01 Discrete probability"
   ]
  },
  {
   "cell_type": "markdown",
   "metadata": {},
   "source": [
    "__1.Question:__ You purchase a raffle ticket for 125. In exchange, you’ll be allowed to participate in two drawings. In each drawing, you blindly pick\n",
    "one of three tokens. One token is worth 0, one is worth 50, and one is worth 100. Let Y be the profit made by a raffle ticket. Find the expected\n",
    "value for Y after the two drawings."
   ]
  },
  {
   "cell_type": "markdown",
   "metadata": {},
   "source": [
    "__Explanation__\n",
    "\n",
    "The sample space is therefore 0, 50, 100, 150, or 200. Because there are 9 possible combinations, from (0,0) to (100,100), the probability of\n",
    "winning each amount of money is\n",
    "\n",
    "    Y 0, 50, 100, 150, 200\n",
    "\n",
    "    P(Y) 1/9, 2/9, 3/9, 2/9, 1/9\n",
    "\n",
    "But the ticket cost 125, which means we need to adjust the probability distribution by subtracting the cost from each potential profit.\n",
    "\n",
    "    Y -125, -75, -25, 25, 75\n",
    "\n",
    "    P(Y) 1/9, 2/9, 3/9, 2/9, 1/9"
   ]
  },
  {
   "cell_type": "code",
   "execution_count": 61,
   "metadata": {},
   "outputs": [
    {
     "name": "stdout",
     "output_type": "stream",
     "text": [
      "the expected value for Y is -25\n"
     ]
    }
   ],
   "source": [
    "def expected_value(values, probabilities):\n",
    "    return sum([v * p for v, p in zip(values, probabilities)])\n",
    "\n",
    "y = [-125,-75,-25,25,75]\n",
    "py = [1/9,2/9,3/9,2/9,1/9]\n",
    "\n",
    "exp = round(expected_value(y, py))\n",
    "\n",
    "print(\"the expected value for Y is\",exp)"
   ]
  },
  {
   "cell_type": "markdown",
   "metadata": {},
   "source": [
    "__2.Question:__ The following table shows the 2017 AP Statistics Exam score distribution for all students taking the test in the United States. Let Z\n",
    "represent the exam score. Find μZ and σZ."
   ]
  },
  {
   "cell_type": "markdown",
   "metadata": {},
   "source": [
    "| Score | 1   |  2  |  3  |  4  |  5  |\n",
    "|-------|------|-----|-----|-----|-----|\n",
    "|   Probability  | 0.136 | 0.159 | 0.248 | 0.202 | 0.255 |"
   ]
  },
  {
   "cell_type": "markdown",
   "metadata": {},
   "source": [
    "__Explanation__\n",
    "\n",
    "Z is a discrete random variable with sample space {1, 2, 3, 4, 5}. The percentage of students taking the exam who received each of those scores is given in the table.\n",
    "\n",
    "We’ll find the mean of this discrete random variable as:"
   ]
  },
  {
   "cell_type": "code",
   "execution_count": 62,
   "metadata": {},
   "outputs": [
    {
     "name": "stdout",
     "output_type": "stream",
     "text": [
      "the expected value for Y is 3.281\n"
     ]
    }
   ],
   "source": [
    "def expected_value(values, probabilities):\n",
    "    return sum([v * p for v, p in zip(values, probabilities)])\n",
    "\n",
    "y = [1,2,3,4,5]\n",
    "py = [0.136,0.159,0.248,0.202,0.255]\n",
    "\n",
    "exp = round(expected_value(y, py),4)\n",
    "\n",
    "print(\"the expected value for Y is\",exp)"
   ]
  },
  {
   "cell_type": "code",
   "execution_count": 63,
   "metadata": {},
   "outputs": [],
   "source": [
    "import scipy\n",
    "from scipy import stats\n",
    "values = [1,2,3,4,5]\n",
    "probabilities = [0.136,0.159,0.248,0.202,0.255]\n",
    "\n",
    "st = round(stats.rv_discrete(values=(values, probabilities)).std(),3)"
   ]
  },
  {
   "cell_type": "code",
   "execution_count": 64,
   "metadata": {},
   "outputs": [
    {
     "name": "stdout",
     "output_type": "stream",
     "text": [
      "the standard deviation for Y is 1.359\n"
     ]
    }
   ],
   "source": [
    "print(\"the standard deviation for Y is\",st)"
   ]
  },
  {
   "cell_type": "markdown",
   "metadata": {},
   "source": [
    "---\n",
    "### 03 Combinations of random variables"
   ]
  },
  {
   "cell_type": "markdown",
   "metadata": {},
   "source": [
    "__1.Question:__ Sandwiches can be purchased in the school cafeteria. Bread is baked each day and the sandwich is topped with meat and cheese, then\n",
    "sold for $3.50.\n",
    "\n",
    "The weight of the bread used for each sandwich is normally distributed with mean of 2.3 ounces and standard deviation of 0.4 ounces. The weight of the meat and cheese used for each sandwich is normally distributed with mean of 2.5 ounces and standard deviation of 0.6 ounces. Suppose you purchase a sandwich at random from the school cafeteria. What is the probability that the overall weight of the sandwich exceeds 6 ounces?\n",
    "Assume the two variables are independent."
   ]
  },
  {
   "cell_type": "code",
   "execution_count": 65,
   "metadata": {},
   "outputs": [],
   "source": [
    "## data:\n",
    "\n",
    "# bread weight, mean and standard deviation\n",
    "b_mean = 2.3\n",
    "b_stdv = 0.4\n",
    "\n",
    "# meat and cheees weight,  mean and standard deviation\n",
    "mc_mean = 2.5\n",
    "mc_stdv = 0.6"
   ]
  },
  {
   "cell_type": "markdown",
   "metadata": {},
   "source": [
    "First, we need to find the mean and the standard deviation of the sandwich, as a combination of the weight of the bread and the cheese and meat"
   ]
  },
  {
   "cell_type": "code",
   "execution_count": 66,
   "metadata": {},
   "outputs": [
    {
     "name": "stdout",
     "output_type": "stream",
     "text": [
      "4.8\n",
      "0.7211\n"
     ]
    }
   ],
   "source": [
    "# mean: when we want to find the mean of the sum, we just find the sum of the mean\n",
    "s_mean = b_mean + mc_mean\n",
    "\n",
    "# standard deviation: first we square the two standard deviation to get the variances, then we add them together and finally \n",
    "# we square root the sum, to get the standard deviation of the total\n",
    "\n",
    "s_stdv = round(sqrt(b_stdv**2 + mc_stdv**2),4)\n",
    "\n",
    "print(s_mean)\n",
    "print(s_stdv)"
   ]
  },
  {
   "cell_type": "markdown",
   "metadata": {},
   "source": [
    "The task requires to calculate the propability that a random picked up sandwich weights more than 6 ounces, so at this point we calculate a Z score for x = 6"
   ]
  },
  {
   "cell_type": "code",
   "execution_count": 67,
   "metadata": {},
   "outputs": [
    {
     "name": "stdout",
     "output_type": "stream",
     "text": [
      "1.66\n"
     ]
    }
   ],
   "source": [
    "x = 6\n",
    "z = round((x - s_mean)/s_stdv,2)\n",
    "\n",
    "print(z)"
   ]
  },
  {
   "cell_type": "code",
   "execution_count": 68,
   "metadata": {},
   "outputs": [
    {
     "name": "stdout",
     "output_type": "stream",
     "text": [
      "The probablity that a random picked up sandwich weights more than 6 ounces 0.0485\n"
     ]
    }
   ],
   "source": [
    "# Using norm cdf function to find the area under the curve\n",
    "p = stats.norm.cdf(z)\n",
    "\n",
    "# Since we want to calculate the probability of more than 6, we need the remaining are under the curve:\n",
    "\n",
    "p_minus = 1 - p\n",
    "\n",
    "print(\"The probablity that a random picked up sandwich weights more than 6 ounces\",round(p_minus,4))"
   ]
  },
  {
   "cell_type": "markdown",
   "metadata": {},
   "source": [
    "---\n",
    "### 04 Permutations and combinations"
   ]
  },
  {
   "cell_type": "markdown",
   "metadata": {},
   "source": [
    "__1.Question:__ Out of 30 students in a math class, how many study groups of 5 students can be formed from the class members?"
   ]
  },
  {
   "cell_type": "markdown",
   "metadata": {},
   "source": [
    "__Solution__: This is a combination question where n = 30 and k = 5. The order in which we choose the 5 study group members doesn’t matter in this situation."
   ]
  },
  {
   "cell_type": "code",
   "execution_count": 69,
   "metadata": {},
   "outputs": [
    {
     "name": "stdout",
     "output_type": "stream",
     "text": [
      "The number of groups of 5 people are:  142506\n"
     ]
    }
   ],
   "source": [
    "# source: https://www.geeksforgeeks.org/permutation-and-combination-in-python/?ref=lbp\n",
    "\n",
    "# A Python program to print all\n",
    "# combinations of given length\n",
    "from itertools import combinations\n",
    "\n",
    "arr = [1,2,3,4,5,6,7,8,9,10,11,12,13,14,15,16,17,18,19,20,21,22,23,24,25,26,27,28,29,30]\n",
    "k = 5\n",
    "\n",
    "\n",
    "# Function which returns subset or r length from n\n",
    "from itertools import combinations\n",
    "  \n",
    "def rSubset(arr, k):\n",
    "  \n",
    "    # return list of all subsets of length k\n",
    "    # to deal with duplicate subsets use \n",
    "    # set(list(combinations(arr, k)))\n",
    "    return list(combinations(arr, k))\n",
    "  \n",
    "# Driver Function\n",
    "\n",
    "print(\"The number of groups of 5 people are: \",len(rSubset(arr, k)))"
   ]
  },
  {
   "cell_type": "markdown",
   "metadata": {},
   "source": [
    "__2.Question:__ Four children are sledding in a toboggan. How many ways can the children arrange themselves on the toboggan?"
   ]
  },
  {
   "cell_type": "markdown",
   "metadata": {},
   "source": [
    "__Solution__: This is a permutation question. We have 4 people we’re arranging and we’ll arrange those 4 people as many different ways as we can."
   ]
  },
  {
   "cell_type": "code",
   "execution_count": 70,
   "metadata": {},
   "outputs": [
    {
     "name": "stdout",
     "output_type": "stream",
     "text": [
      "The number of ways we can arrange the 4 people is:  24\n"
     ]
    }
   ],
   "source": [
    "# source: https://www.geeksforgeeks.org/permutation-and-combination-in-python/?ref=lbp\n",
    "\n",
    "# A Python program to print all\n",
    "# permutations of given length\n",
    "from itertools import permutations\n",
    "\n",
    "# Get all permutations of length 4\n",
    "# and length 4\n",
    "arr = [1, 2, 3, 4]\n",
    "k = 4\n",
    "\n",
    "def rSubset(arr, k):\n",
    "  \n",
    "    # return list of all subsets of length k\n",
    "    # to deal with duplicate subsets use \n",
    "    # set(list(combinations(arr, k)))\n",
    "    return list(permutations(arr, k))\n",
    "  \n",
    "# Driver Function\n",
    "\n",
    "print(\"The number of ways we can arrange the 4 people is: \",len(rSubset(arr, k)))"
   ]
  },
  {
   "cell_type": "markdown",
   "metadata": {},
   "source": [
    "__3.Question:__ Sawyer is taking a 5-question biology test, and the test only requires him to answer 3 out of the 5 questions. He gets to choose which 3\n",
    "he answers. How many different ways could he choose exactly 3 of the 5 questions?"
   ]
  },
  {
   "cell_type": "markdown",
   "metadata": {},
   "source": [
    "__Solution__: To figure out how many different ways could Sawyer could answer exactly 3 of the 5 questions, we need the formula for combinations. \n",
    "We have 5 questions and want to know how many ways we can pick 3 of the 5 questions. The order won’t matter, which is why we need the combination, and not the permutation."
   ]
  },
  {
   "cell_type": "code",
   "execution_count": 71,
   "metadata": {},
   "outputs": [
    {
     "name": "stdout",
     "output_type": "stream",
     "text": [
      "The number of groups of 5 people are:  10\n"
     ]
    }
   ],
   "source": [
    "# source: https://www.geeksforgeeks.org/permutation-and-combination-in-python/?ref=lbp\n",
    "\n",
    "# A Python program to print all\n",
    "# combinations of given length\n",
    "from itertools import combinations\n",
    "\n",
    "arr = [1,2,3,4,5]\n",
    "k = 3\n",
    "\n",
    "\n",
    "# Function which returns subset or r length from n\n",
    "from itertools import combinations\n",
    "  \n",
    "def rSubset(arr, k):\n",
    "  \n",
    "    # return list of all subsets of length k\n",
    "    # to deal with duplicate subsets use \n",
    "    # set(list(combinations(arr, k)))\n",
    "    return list(combinations(arr, k))\n",
    "  \n",
    "# Driver Function\n",
    "\n",
    "print(\"The number of groups of 5 people are: \",len(rSubset(arr, k)))"
   ]
  },
  {
   "cell_type": "markdown",
   "metadata": {},
   "source": [
    "---\n",
    "### 05 Binomial random variables"
   ]
  },
  {
   "cell_type": "markdown",
   "metadata": {},
   "source": [
    "__1.Question:__ Let X be a binomial random variable with n = 15 and p = 0.45. Find P(X = 9)."
   ]
  },
  {
   "cell_type": "code",
   "execution_count": 72,
   "metadata": {},
   "outputs": [
    {
     "name": "stdout",
     "output_type": "stream",
     "text": [
      "The probability of exactly 9 success:  0.1048\n"
     ]
    }
   ],
   "source": [
    "# scipy.stats.binom.pmf() function is used to obtain the probability mass function for a certain value of r, n and p. \n",
    "# We can obtain the distribution by passing all possible values of r(0 to n).\n",
    "# https://www.geeksforgeeks.org/python-binomial-distribution/#:~:text=Binomial%20distribution%20is%20a%20probability,a%20number%20of%20Bernoulli%20trials.\n",
    "\n",
    "r = 9 #(number of success)\n",
    "n = 15\n",
    "p =0.45\n",
    "\n",
    "pr = scipy.stats.binom.pmf(r, n, p)\n",
    "\n",
    "print(\"The probability of exactly 9 success: \",round(pr,4))"
   ]
  },
  {
   "cell_type": "markdown",
   "metadata": {},
   "source": [
    "__2.Question:__ Suppose 35 % of our nation's high school seniors will be taking at least one AP Exam this year. We select 80 students at random from our\n",
    "nation. What is the probability that exactly 30 will be taking at least one exam?"
   ]
  },
  {
   "cell_type": "code",
   "execution_count": 73,
   "metadata": {},
   "outputs": [
    {
     "name": "stdout",
     "output_type": "stream",
     "text": [
      "The probability of exactly 30 success:  0.0824\n"
     ]
    }
   ],
   "source": [
    "# scipy.stats.binom.pmf() function is used to obtain the probability mass function for a certain value of r, n and p. \n",
    "# We can obtain the distribution by passing all possible values of r(0 to n).\n",
    "# https://www.geeksforgeeks.org/python-binomial-distribution/#:~:text=Binomial%20distribution%20is%20a%20probability,a%20number%20of%20Bernoulli%20trials.\n",
    "\n",
    "r = 30 #(number of success)\n",
    "n = 80\n",
    "p =0.35\n",
    "\n",
    "pr = scipy.stats.binom.pmf(r, n, p)\n",
    "\n",
    "print(\"The probability of exactly 30 success: \",round(pr,4))"
   ]
  },
  {
   "cell_type": "markdown",
   "metadata": {},
   "source": [
    "---\n",
    "### 06 Poisson distributions"
   ]
  },
  {
   "cell_type": "markdown",
   "metadata": {},
   "source": [
    "__1.Question:__ A carpenter is able to build 3 chairs per day, on average. Find the probability that he can build 5 chairs tomorrow."
   ]
  },
  {
   "cell_type": "markdown",
   "metadata": {},
   "source": [
    "__Context:__ The Poisson distribution models a discrete random variable, and it’s particularly useful for finding the probability that a specific number of events will occur in a given period of time. A Poisson process calculates the number of times an event occurs in a period of time, or in a particular area, or over some distance, or within any\n",
    "other kind of measurement.\n",
    "\n",
    "__Formula:__ P(X=k) = λk * e– λ / k!\n",
    "\n",
    "where:\n",
    "\n",
    "- λ: mean number of successes that occur during a specific interval\n",
    "- k: number of successes\n",
    "- e: a constant equal to approximately 2.71828"
   ]
  },
  {
   "cell_type": "code",
   "execution_count": 74,
   "metadata": {},
   "outputs": [
    {
     "name": "stdout",
     "output_type": "stream",
     "text": [
      "The probability the carpenter can build 5 chairs is:  0.1008\n"
     ]
    }
   ],
   "source": [
    "# Example 1: Probability Equal to Some Value\n",
    "from scipy.stats import poisson\n",
    "\n",
    "#calculate probability\n",
    "pr = poisson.pmf(k=5, mu=3)\n",
    "\n",
    "print(\"The probability the carpenter can build 5 chairs is: \",round(pr,4))"
   ]
  },
  {
   "cell_type": "markdown",
   "metadata": {},
   "source": [
    "__2.Question:__ Let X be the number of typos on a page in a printed book, with a mean of 3 typos per page. What is the probability that a randomly selected page has at most one typo on it?"
   ]
  },
  {
   "cell_type": "code",
   "execution_count": 75,
   "metadata": {},
   "outputs": [
    {
     "name": "stdout",
     "output_type": "stream",
     "text": [
      "The the probability that a randomly selected page has at most one typo on it:  0.1991\n"
     ]
    }
   ],
   "source": [
    "# Example 2: Probability Less than Some Value\n",
    "\n",
    "from scipy.stats import poisson\n",
    "\n",
    "#calculate probability\n",
    "pr = poisson.cdf(k=1, mu=3)\n",
    "\n",
    "print(\"The the probability that a randomly selected page has at most one typo on it: \",round(pr,4))"
   ]
  },
  {
   "cell_type": "markdown",
   "metadata": {},
   "source": [
    "__3.Question:__ There are 40 students in a college math course, and each one of them has a 4.5 % chance of forgetting their calculator on any given day.\n",
    "What is the probability that exactly 5 of them will forget their calculator today?"
   ]
  },
  {
   "cell_type": "markdown",
   "metadata": {},
   "source": [
    "__Context:__ The Poisson distribution very closely approximates the binomial distribution when the number of binomial trials n is at least 20 and when the probability of success p in the binomial trial is at most 0.05.\n",
    "So if those two conditions are met, then using the Poisson probability formula will give us a great approximation of the binomial probability. And\n",
    "the math for the Poisson probability is easier than the math for the binomial probability, so we’ll save some time.\n",
    "\n",
    "The probability of x successes in n attempts, given by the Poisson formula is\n",
    "P(x=K) = ((np)k * e−np) / k!\n",
    "\n",
    "where:\n",
    "\n",
    "- n: number of elements in our sample\n",
    "- p: propability of success for each element\n",
    "- k: number of successes\n",
    "- e: a constant equal to approximately 2.71828"
   ]
  },
  {
   "cell_type": "code",
   "execution_count": 76,
   "metadata": {},
   "outputs": [
    {
     "name": "stdout",
     "output_type": "stream",
     "text": [
      "The probability that exactly 5 students will forget their calculator today:  0.026\n"
     ]
    }
   ],
   "source": [
    "# Example 1: Probability Equal to Some Value\n",
    "# This is a binomial experiment with n = 40, p = 0.045, and x = 5.\n",
    "from scipy.stats import poisson\n",
    "\n",
    "x = 5\n",
    "k = x\n",
    "p = 0.045\n",
    "n = 40\n",
    "mu = p*n\n",
    "\n",
    "#calculate probability\n",
    "pr = poisson.pmf(k, mu)\n",
    "\n",
    "print(\"The probability that exactly 5 students will forget their calculator today: \",round(pr,4))"
   ]
  },
  {
   "cell_type": "markdown",
   "metadata": {},
   "source": [
    "---\n",
    "### 07 At least and at most, and mean, variance, and standard deviation"
   ]
  },
  {
   "cell_type": "markdown",
   "metadata": {},
   "source": [
    "__1.Question:__ Let X be a binomial random variable with n = 15 and p = 0.45. Find P(X ≤ 10)."
   ]
  },
  {
   "cell_type": "markdown",
   "metadata": {},
   "source": [
    "__Solution:__\n",
    "\n",
    "X follows a binomial distribution, but instead of finding the probability of exactly k successes in n trials, we’re asked to find the probability of k or\n",
    "fewer successes in n trials. Specifically, find the chance of 10 or fewer successes in 15 trials, where the probability of success on any one trial is\n",
    "p = 0.45."
   ]
  },
  {
   "cell_type": "code",
   "execution_count": 77,
   "metadata": {},
   "outputs": [
    {
     "name": "stdout",
     "output_type": "stream",
     "text": [
      "r\tp(r)\n",
      "0\t0.00012747949735765552\n",
      "1\t0.0015645211039348635\n",
      "2\t0.008960439049808755\n",
      "3\t0.031768829358412805\n",
      "4\t0.07797803569792242\n",
      "5\t0.1403604642562604\n",
      "6\t0.1914006330767187\n",
      "7\t0.20134352310667833\n",
      "8\t0.16473560981455473\n",
      "9\t0.10483175170017121\n",
      "10\t0.05146285992553847\n",
      "The probability that there will be at the most 10 successes is:  0.9745\n"
     ]
    }
   ],
   "source": [
    "from scipy.stats import binom\n",
    "# setting the values\n",
    "# of n and p\n",
    "n = 15\n",
    "p = 0.45\n",
    "# defining the list of r values. n-4 because we are looking for p in less than 10 attempts (so from 0 to 10 included)\n",
    "r_values = list(range(n-4))\n",
    "\n",
    "# list of pmf values\n",
    "dist = [binom.pmf(r, n, p) for r in r_values ]\n",
    "# printing the table\n",
    "print(\"r\\tp(r)\")\n",
    "for i in range(n-4):\n",
    "\tprint(str(r_values[i]) + \"\\t\" + str(dist[i]))\n",
    "# printing the sum of probability, to get P(x<=10)\n",
    "print(\"The probability that there will be at the most 10 successes is: \",round(sum(dist),4))"
   ]
  },
  {
   "cell_type": "code",
   "execution_count": 78,
   "metadata": {},
   "outputs": [
    {
     "data": {
      "image/png": "[encoded data removed]",
      "text/plain": [
       "<Figure size 432x288 with 1 Axes>"
      ]
     },
     "metadata": {
      "needs_background": "light"
     },
     "output_type": "display_data"
    }
   ],
   "source": [
    "# plotting the graph \n",
    "plt.bar(r_values, dist)\n",
    "plt.show()"
   ]
  },
  {
   "cell_type": "markdown",
   "metadata": {},
   "source": [
    "__2.Question:__ 32 % of all internet users have Instagram accounts. Suppose 20 random internet users are selected. What’s the probability that at least\n",
    "half of them have Instagram accounts?"
   ]
  },
  {
   "cell_type": "code",
   "execution_count": 79,
   "metadata": {},
   "outputs": [
    {
     "name": "stdout",
     "output_type": "stream",
     "text": [
      "r\tp(r)\n",
      "0\t0.00044686696895814064\n",
      "1\t0.004205806766664851\n",
      "2\t0.01880243025097231\n",
      "3\t0.05308921482627461\n",
      "4\t0.10617842965254914\n",
      "5\t0.15989222347678\n",
      "6\t0.18810849820797695\n",
      "7\t0.17704329243103728\n",
      "8\t0.13538604715314614\n",
      "9\t0.08494810801766028\n",
      "The probability that there will be at least 10 successes is:  0.0719\n"
     ]
    }
   ],
   "source": [
    "from scipy.stats import binom\n",
    "# setting the values\n",
    "# of n and p\n",
    "n = 20\n",
    "p = 0.32\n",
    "# defining the list of r values. n-10 because we are looking for p in less than 10 attempts (so from 0 to 9 included)\n",
    "r_values = list(range(n-10))\n",
    "\n",
    "# list of pmf values\n",
    "dist = [binom.pmf(r, n, p) for r in r_values ]\n",
    "# printing the table\n",
    "print(\"r\\tp(r)\")\n",
    "for i in range(n-10):\n",
    "\tprint(str(r_values[i]) + \"\\t\" + str(dist[i]))\n",
    "# printing the sum of probability, to get P(x>=10)\n",
    "# we subtract the probability from 1 to find the probability of at least 10 successes out of 20\n",
    "print(\"The probability that there will be at least 10 successes is: \",round(1-sum(dist),4))"
   ]
  },
  {
   "cell_type": "markdown",
   "metadata": {},
   "source": [
    "__3.Question:__ In January, 2018, 17 % of teens said Instagram is the most important social media site. If we select an SRS of 150 teens, how many are\n",
    "expected to say Instagram is the most important social media site? With what standard deviation?"
   ]
  },
  {
   "cell_type": "code",
   "execution_count": 97,
   "metadata": {},
   "outputs": [
    {
     "name": "stdout",
     "output_type": "stream",
     "text": [
      "mean = 25.5\n",
      "standard deviation = 4.601\n"
     ]
    }
   ],
   "source": [
    "from scipy.stats import binom\n",
    "# setting the values\n",
    "# of n and p\n",
    "n = 150\n",
    "p = 0.17\n",
    "\n",
    "# obtaining the mean and variance \n",
    "# the mean is = to the most expected value\n",
    "mean, var = binom.stats(n, p)\n",
    "\n",
    "# calculate the standard deviation as a square root of the variance\n",
    "std = sqrt(var)\n",
    "\n",
    "# printing mean and standard deviation\n",
    "print(\"mean = \"+str(round(np.mean(mean),3)))\n",
    "print(\"standard deviation = \"+str(round(std,3)))"
   ]
  },
  {
   "cell_type": "markdown",
   "metadata": {},
   "source": [
    "---\n",
    "### 08 Bernoulli random variables"
   ]
  },
  {
   "cell_type": "markdown",
   "metadata": {},
   "source": [
    "__1.Question:__ 68 % of U.S. households own a pet. Suppose we start randomly surveying households and asking whether or not they are pet owners.\n",
    "When a household is selected, we can consider it a Bernoulli trial because each trial is independent, a success can be noted as finding a household\n",
    "with a pet, and the probability of success remains constant for each trial.\n",
    "What is the mean and standard deviation for each trial?"
   ]
  },
  {
   "cell_type": "markdown",
   "metadata": {},
   "source": [
    "__Context:__ \n",
    "- the mean (also called the expected value) is: μ = (1 − p)(0) + (p)(1) ==> μ = 0 + p ==> μ = p\n",
    "\n",
    "- the standard deviation is:  $\\sqrt{σ = p(1 − p)}$"
   ]
  },
  {
   "cell_type": "code",
   "execution_count": 102,
   "metadata": {},
   "outputs": [
    {
     "name": "stdout",
     "output_type": "stream",
     "text": [
      "mean = 0.68\n",
      "standard deviation = 0.4665\n"
     ]
    }
   ],
   "source": [
    "p = 0.68\n",
    "\n",
    "mu = p\n",
    "std = sqrt(p*(1-p))\n",
    "\n",
    "# printing mean and standard deviation\n",
    "print(\"mean = \"+str(mu))\n",
    "print(\"standard deviation = \"+str(round(std,4)))"
   ]
  },
  {
   "cell_type": "code",
   "execution_count": null,
   "metadata": {},
   "outputs": [],
   "source": []
  }
 ],
 "metadata": {
  "kernelspec": {
   "display_name": "Python 3",
   "language": "python",
   "name": "python3"
  },
  "language_info": {
   "codemirror_mode": {
    "name": "ipython",
    "version": 3
   },
   "file_extension": ".py",
   "mimetype": "text/x-python",
   "name": "python",
   "nbconvert_exporter": "python",
   "pygments_lexer": "ipython3",
   "version": "3.8.5"
  }
 },
 "nbformat": 4,
 "nbformat_minor": 4
}
