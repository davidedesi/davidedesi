{
 "cells": [
  {
   "cell_type": "code",
   "execution_count": 1,
   "metadata": {},
   "outputs": [],
   "source": [
    "# Importing useful libraries\n",
    "\n",
    "import pandas as pd\n",
    "import math\n",
    "import numpy as np\n",
    "import statistics as st\n",
    "import scipy\n",
    "from scipy import stats\n",
    "import matplotlib.pyplot as plt\n",
    "import seaborn as sns"
   ]
  },
  {
   "cell_type": "markdown",
   "metadata": {},
   "source": [
    "# 03 Data distributions\n",
    "Link: https://drive.google.com/drive/folders/1Vu56xgUToj9XqvnMqDeNCxWJmDFGSgum\n",
    "\n",
    "---\n",
    "### 01 Mean, variance, and standard deviation"
   ]
  },
  {
   "cell_type": "markdown",
   "metadata": {},
   "source": [
    "__1.Question:__ Find the mean and population standard deviation for the data set."
   ]
  },
  {
   "cell_type": "code",
   "execution_count": 18,
   "metadata": {},
   "outputs": [
    {
     "name": "stdout",
     "output_type": "stream",
     "text": [
      "The mean is 3.2\n",
      "The standard deviation is 1.4697\n"
     ]
    }
   ],
   "source": [
    "data = [6,3,3,2,2]\n",
    "\n",
    "mean = np.mean(data)\n",
    "std = st.pstdev(data) #pstdev for population standard deviation\n",
    "\n",
    "print(\"The mean is\",(mean))\n",
    "print(\"The standard deviation is\",round(std,4))"
   ]
  },
  {
   "cell_type": "markdown",
   "metadata": {},
   "source": [
    "__2.Question:__ Find the mean and sample standard deviation for the data set."
   ]
  },
  {
   "cell_type": "code",
   "execution_count": 19,
   "metadata": {},
   "outputs": [
    {
     "name": "stdout",
     "output_type": "stream",
     "text": [
      "The mean is 6.4\n",
      "The standard deviation is 3.3615\n"
     ]
    }
   ],
   "source": [
    "data = [2,4,7,9,10]\n",
    "\n",
    "mean = np.mean(data)\n",
    "std = st.stdev(data) #stdev for sample standard deviation\n",
    "\n",
    "print(\"The mean is\",(mean))\n",
    "print(\"The standard deviation is\",round(std,4))"
   ]
  },
  {
   "cell_type": "markdown",
   "metadata": {},
   "source": [
    "__3.Question:__ Consider the small population: 1, 2, 1. If each number is increased by 4, how will the population standard deviation change?"
   ]
  },
  {
   "cell_type": "code",
   "execution_count": 3,
   "metadata": {},
   "outputs": [
    {
     "name": "stdout",
     "output_type": "stream",
     "text": [
      "The standard deviation of data is 0.4714\n",
      "The standard deviation of data_increased is 0.4714\n",
      "Both population standard deviations are the same.\n"
     ]
    }
   ],
   "source": [
    "data = [1,2,1]\n",
    "data_increased = np.array(data) + 4 #using numopoy array as an easy way to add a number to all the element of the list\n",
    "\n",
    "std = st.pstdev(data) #pstdev for population standard deviation\n",
    "std_increased = np.std(data_increased) #using numpy standard deviation for the array\n",
    "\n",
    "print(\"The standard deviation of data is\",round(std,4))\n",
    "print(\"The standard deviation of data_increased is\",round(std_increased,4))\n",
    "print(\"Both population standard deviations are the same.\")"
   ]
  },
  {
   "cell_type": "markdown",
   "metadata": {},
   "source": [
    "---\n",
    "### 04 Normal distributions and z-scores"
   ]
  },
  {
   "cell_type": "markdown",
   "metadata": {},
   "source": [
    "__1.Question:__ A third grade class has a mean height of 50′′ with a standard deviation of 3′′. What is the approximate percentile of a third grader who is 53′′ tall?"
   ]
  },
  {
   "cell_type": "code",
   "execution_count": 5,
   "metadata": {},
   "outputs": [],
   "source": [
    "mean = 50\n",
    "std = 3\n",
    "x =53"
   ]
  },
  {
   "cell_type": "code",
   "execution_count": 6,
   "metadata": {},
   "outputs": [
    {
     "data": {
      "text/plain": [
       "1.0"
      ]
     },
     "execution_count": 6,
     "metadata": {},
     "output_type": "execute_result"
    }
   ],
   "source": [
    "z = round((x - mean)/std,4)\n",
    "z"
   ]
  },
  {
   "cell_type": "code",
   "execution_count": 7,
   "metadata": {},
   "outputs": [
    {
     "name": "stdout",
     "output_type": "stream",
     "text": [
      "The approximate percentile of a third grader who is 53′′ tall is 0.8413\n"
     ]
    }
   ],
   "source": [
    "# Using norm cdf function to find the area under the curve, having z-score = 1 \n",
    "p = stats.norm.cdf(z)\n",
    "\n",
    "print(\"The approximate percentile of a third grader who is 53′′ tall is\",round(p,4))"
   ]
  },
  {
   "cell_type": "markdown",
   "metadata": {},
   "source": [
    "# 04 Probability\n",
    "Link: https://drive.google.com/drive/folders/1Vu56xgUToj9XqvnMqDeNCxWJmDFGSgum\n",
    "\n",
    "---\n",
    "### 03 Independent and dependent events and conditional probability"
   ]
  },
  {
   "cell_type": "markdown",
   "metadata": {},
   "source": [
    "__1.Question:__ Events A and B are independent events. Find P(B) if P(A and B) = 0.25 and P(A) = 0.5."
   ]
  },
  {
   "cell_type": "code",
   "execution_count": 10,
   "metadata": {},
   "outputs": [
    {
     "name": "stdout",
     "output_type": "stream",
     "text": [
      "The probability of B is 0.5\n"
     ]
    }
   ],
   "source": [
    "# Since the events are independent, events we know that\n",
    "# P(A and B) = P(A) ⋅ P(B) \n",
    "\n",
    "pa = 0.5\n",
    "pab = 0.25\n",
    "pb = pab/pa\n",
    "\n",
    "print(\"The probability of B is\",round(pb,4))"
   ]
  },
  {
   "cell_type": "markdown",
   "metadata": {},
   "source": [
    "__2.Question:__ Suppose that Katie rolls a six-sided die twice. Event A is that the first roll is a 6, so P(A) is the probability that the first roll is a 6. Event B is that the second roll is a 6, so P(B) is the probability that the second roll is a 6."
   ]
  },
  {
   "cell_type": "code",
   "execution_count": 11,
   "metadata": {},
   "outputs": [
    {
     "name": "stdout",
     "output_type": "stream",
     "text": [
      "The probability of getting twice 6 after rolling the dice twice is 0.0278\n"
     ]
    }
   ],
   "source": [
    "# Since the events are independent, events we know that\n",
    "# P(A and B) = P(A) ⋅ P(B) \n",
    "\n",
    "pa = 1/6\n",
    "pb = 1/6\n",
    "pab = pa*pb\n",
    "\n",
    "print(\"The probability of getting twice 6 after rolling the dice twice is\",round(pab,4))"
   ]
  },
  {
   "cell_type": "markdown",
   "metadata": {},
   "source": [
    "# 05 Dicrete random variables\n",
    "Link: https://drive.google.com/drive/folders/1Vu56xgUToj9XqvnMqDeNCxWJmDFGSgum\n",
    "\n",
    "---\n",
    "### 01 Discrete probability"
   ]
  },
  {
   "cell_type": "markdown",
   "metadata": {},
   "source": [
    "__1.Question:__ You purchase a raffle ticket for 125. In exchange, you’ll be allowed to participate in two drawings. In each drawing, you blindly pick\n",
    "one of three tokens. One token is worth 0, one is worth 50, and one is worth 100. Let Y be the profit made by a raffle ticket. Find the expected\n",
    "value for Y after the two drawings."
   ]
  },
  {
   "cell_type": "markdown",
   "metadata": {},
   "source": [
    "__Explanation__\n",
    "\n",
    "The sample space is therefore 0, 50, 100, 150, or 200. Because there are 9 possible combinations, from (0,0) to (100,100), the probability of\n",
    "winning each amount of money is\n",
    "\n",
    "    Y 0, 50, 100, 150, 200\n",
    "\n",
    "    P(Y) 1/9, 2/9, 3/9, 2/9, 1/9\n",
    "\n",
    "But the ticket cost 125, which means we need to adjust the probability distribution by subtracting the cost from each potential profit.\n",
    "\n",
    "    Y -125, -75, -25, 25, 75\n",
    "\n",
    "    P(Y) 1/9, 2/9, 3/9, 2/9, 1/9"
   ]
  },
  {
   "cell_type": "code",
   "execution_count": 13,
   "metadata": {},
   "outputs": [
    {
     "name": "stdout",
     "output_type": "stream",
     "text": [
      "the expected value for Y is -25\n"
     ]
    }
   ],
   "source": [
    "def expected_value(values, probabilities):\n",
    "    return sum([v * p for v, p in zip(values, probabilities)])\n",
    "\n",
    "y = [-125,-75,-25,25,75]\n",
    "py = [1/9,2/9,3/9,2/9,1/9]\n",
    "\n",
    "exp = round(expected_value(y, py))\n",
    "\n",
    "print(\"the expected value for Y is\",exp)"
   ]
  },
  {
   "cell_type": "markdown",
   "metadata": {},
   "source": [
    "__2.Question:__ The following table shows the 2017 AP Statistics Exam score distribution for all students taking the test in the United States. Let Z\n",
    "represent the exam score. Find μZ and σZ."
   ]
  },
  {
   "cell_type": "markdown",
   "metadata": {},
   "source": [
    "| Score | 1   |  2  |  3  |  4  |  5  |\n",
    "|-------|------|-----|-----|-----|-----|\n",
    "|   Probability  | 0.136 | 0.159 | 0.248 | 0.202 | 0.255 |"
   ]
  },
  {
   "cell_type": "markdown",
   "metadata": {},
   "source": [
    "__Explanation__\n",
    "\n",
    "Z is a discrete random variable with sample space {1, 2, 3, 4, 5}. The percentage of students taking the exam who received each of those scores is given in the table.\n",
    "\n",
    "We’ll find the mean of this discrete random variable as:"
   ]
  },
  {
   "cell_type": "code",
   "execution_count": 9,
   "metadata": {},
   "outputs": [
    {
     "name": "stdout",
     "output_type": "stream",
     "text": [
      "the expected value for Y is 3.281\n"
     ]
    }
   ],
   "source": [
    "def expected_value(values, probabilities):\n",
    "    return sum([v * p for v, p in zip(values, probabilities)])\n",
    "\n",
    "y = [1,2,3,4,5]\n",
    "py = [0.136,0.159,0.248,0.202,0.255]\n",
    "\n",
    "exp = round(expected_value(y, py),4)\n",
    "\n",
    "print(\"the expected value for Y is\",exp)"
   ]
  },
  {
   "cell_type": "code",
   "execution_count": 28,
   "metadata": {},
   "outputs": [],
   "source": [
    "import scipy\n",
    "from scipy import stats\n",
    "values = [1,2,3,4,5]\n",
    "probabilities = [0.136,0.159,0.248,0.202,0.255]\n",
    "\n",
    "st = round(stats.rv_discrete(values=(values, probabilities)).std(),3)"
   ]
  },
  {
   "cell_type": "code",
   "execution_count": 29,
   "metadata": {},
   "outputs": [
    {
     "name": "stdout",
     "output_type": "stream",
     "text": [
      "the standard deviation for Y is 1.359\n"
     ]
    }
   ],
   "source": [
    "print(\"the standard deviation for Y is\",st)"
   ]
  },
  {
   "cell_type": "markdown",
   "metadata": {},
   "source": [
    "---\n",
    "### 03 Combinations of random variables"
   ]
  },
  {
   "cell_type": "markdown",
   "metadata": {},
   "source": [
    "__1.Question:__ Sandwiches can be purchased in the school cafeteria. Bread is baked each day and the sandwich is topped with meat and cheese, then\n",
    "sold for $3.50.\n",
    "\n",
    "The weight of the bread used for each sandwich is normally distributed with mean of 2.3 ounces and standard deviation of 0.4 ounces. The weight of the meat and cheese used for each sandwich is normally distributed with mean of 2.5 ounces and standard deviation of 0.6 ounces. Suppose you purchase a sandwich at random from the school cafeteria. What is the probability that the overall weight of the sandwich exceeds 6 ounces?\n",
    "Assume the two variables are independent."
   ]
  },
  {
   "cell_type": "code",
   "execution_count": null,
   "metadata": {},
   "outputs": [],
   "source": []
  }
 ],
 "metadata": {
  "kernelspec": {
   "display_name": "Python 3",
   "language": "python",
   "name": "python3"
  },
  "language_info": {
   "codemirror_mode": {
    "name": "ipython",
    "version": 3
   },
   "file_extension": ".py",
   "mimetype": "text/x-python",
   "name": "python",
   "nbconvert_exporter": "python",
   "pygments_lexer": "ipython3",
   "version": "3.8.5"
  }
 },
 "nbformat": 4,
 "nbformat_minor": 4
}
