{
 "cells": [
  {
   "cell_type": "markdown",
   "metadata": {},
   "source": [
    "# Introduction\n",
    "\n",
    "These are some exercises and quizzes from the __\"Become a Probability & Statistics Master\"__ (https://www.udemy.com/course/statistics-probability/) course on Udemy.\n",
    "\n",
    "Main topics of this notebook are\n",
    "\n",
    "- Sampling\n",
    "- Hypothesis testing\n",
    "- Regression\n",
    "\n",
    "---"
   ]
  },
  {
   "cell_type": "code",
   "execution_count": 4,
   "metadata": {},
   "outputs": [],
   "source": [
    "# Importing useful libraries\n",
    "\n",
    "import pandas as pd\n",
    "import math\n",
    "from math import sqrt\n",
    "import numpy as np\n",
    "import statistics as st\n",
    "import scipy\n",
    "from scipy import stats\n",
    "import matplotlib.pyplot as plt\n",
    "import seaborn as sns"
   ]
  },
  {
   "cell_type": "markdown",
   "metadata": {},
   "source": [
    "# 06 Sampling\n",
    "Link: https://drive.google.com/drive/folders/1Vu56xgUToj9XqvnMqDeNCxWJmDFGSgum\n",
    "\n",
    "---\n",
    "### 03 Sampling distribution of the sample mean"
   ]
  },
  {
   "cell_type": "markdown",
   "metadata": {},
   "source": [
    "__1.Question:__ A hospital finds that the average birth weight of a newborn is 7.5 lbs with a standard deviation of 0.4 lbs. The hospital randomly selects 45 newborns to test this claim. What is the standard deviation of the sampling distribution?"
   ]
  },
  {
   "cell_type": "markdown",
   "metadata": {},
   "source": [
    "__Explanation:__ \n",
    "\n",
    "- the standard deviation of the sampling distribution, also called the __standard error__ is given by:  $SE = σ/\\sqrt{n}$\n",
    "\n",
    "We can used this formula because the population standard deviation σ is known."
   ]
  },
  {
   "cell_type": "code",
   "execution_count": 5,
   "metadata": {},
   "outputs": [
    {
     "name": "stdout",
     "output_type": "stream",
     "text": [
      "The standard deviation of the sampling distribution is 0.0596\n"
     ]
    }
   ],
   "source": [
    "std = 0.4\n",
    "n = 45\n",
    "\n",
    "se = std/sqrt(n)\n",
    "\n",
    "print(\"The standard deviation of the sampling distribution is\",round(se,4))"
   ]
  },
  {
   "cell_type": "markdown",
   "metadata": {},
   "source": [
    "---\n",
    "__2.Question:__ A company produces tires in a factory. Individual tires are filled to an approximate pressure of 36 PSI (pounds per square inch), with a standard deviation of 0.8 PSI. The pressure in the tires is normally distributed. The company randomly selects 125 tires to check their pressure. What is the probability that the mean amount of pressure in the tires is within 0.1 PSI of the population mean?"
   ]
  },
  {
   "cell_type": "markdown",
   "metadata": {},
   "source": [
    "__Explanation:__ \n",
    "\n",
    "We know from the exercise that the pressure in the tyres is normally distributed, the sample is randomly selected and it is greater than 30, so we can use the Z test statistic:\n",
    "\n",
    "-  $Z test = x̂-μ/(σ/\\sqrt{n})$"
   ]
  },
  {
   "cell_type": "code",
   "execution_count": 6,
   "metadata": {},
   "outputs": [
    {
     "data": {
      "text/plain": [
       "1.39754"
      ]
     },
     "execution_count": 6,
     "metadata": {},
     "output_type": "execute_result"
    }
   ],
   "source": [
    "# We want to know the probability that the sample mean x̂ is within 0.1 PSI of the population mean.\n",
    "diff = 0.1\n",
    "std = 0.8\n",
    "n = 125\n",
    "\n",
    "z = diff/(std/sqrt(n))\n",
    "z = round(z,5)\n",
    "z"
   ]
  },
  {
   "cell_type": "code",
   "execution_count": 7,
   "metadata": {},
   "outputs": [
    {
     "name": "stdout",
     "output_type": "stream",
     "text": [
      "0.9188743765809492\n",
      "0.08112562341905083\n"
     ]
    }
   ],
   "source": [
    "# This means we want to know the probability P(−1.39754 < z < 1.39754).\n",
    "# Using norm cdf function to find the area under the curve\n",
    "p1 = stats.norm.cdf(z)\n",
    "p2 = stats.norm.cdf(-z)\n",
    "\n",
    "print(p1)\n",
    "print(p2)"
   ]
  },
  {
   "cell_type": "code",
   "execution_count": 8,
   "metadata": {},
   "outputs": [
    {
     "name": "stdout",
     "output_type": "stream",
     "text": [
      "0.838\n"
     ]
    }
   ],
   "source": [
    "# The probability under the normal curve between these z-scores is:\n",
    "p = p1-p2\n",
    "\n",
    "print(round(p,3))"
   ]
  },
  {
   "cell_type": "markdown",
   "metadata": {},
   "source": [
    "---\n",
    "### 04 Sampling distribution of the sample proportion"
   ]
  },
  {
   "cell_type": "markdown",
   "metadata": {},
   "source": [
    "__1.Question:__ A restaurant wants to know the percentage of their customers who order desert. The restaurant has 1,500 customers in one week and finds by randomly surveying 100 customers that 35 of them order desert. What is the standard deviation for the sample?"
   ]
  },
  {
   "cell_type": "markdown",
   "metadata": {},
   "source": [
    "__Explanation:__ \n",
    "\n",
    "The standard deviation of the Sampling distribution of the sample proportion is given by:\n",
    "\n",
    "-  $σ = \\sqrt\\frac{p(1-p)}{n}$"
   ]
  },
  {
   "cell_type": "code",
   "execution_count": 9,
   "metadata": {},
   "outputs": [
    {
     "name": "stdout",
     "output_type": "stream",
     "text": [
      "The standard deviation of the sampling distribution of the sample proportion is 0.047697\n"
     ]
    }
   ],
   "source": [
    "n = 100\n",
    "p = 35/100\n",
    "\n",
    "std = sqrt((p*(1-p))/n)\n",
    "\n",
    "print(\"The standard deviation of the sampling distribution of the sample proportion is\",round(std,6))"
   ]
  },
  {
   "cell_type": "markdown",
   "metadata": {},
   "source": [
    "---\n",
    "__2.Question:__ A group of scientists is studying 10,000 manatees and finds that 20 % are calves. You want to verify the claim, but can’t conduct a study of all 10,000, so you randomly sample 500. What’s the probability that your results are within 5 % of the first study?"
   ]
  },
  {
   "cell_type": "code",
   "execution_count": 10,
   "metadata": {},
   "outputs": [
    {
     "data": {
      "text/plain": [
       "0.01788854381999832"
      ]
     },
     "execution_count": 10,
     "metadata": {},
     "output_type": "execute_result"
    }
   ],
   "source": [
    "# find the mean and standard error for the sample.\n",
    "n = 500\n",
    "p = 0.2\n",
    "\n",
    "std = sqrt((p*(1-p))/n)\n",
    "std"
   ]
  },
  {
   "cell_type": "code",
   "execution_count": 11,
   "metadata": {},
   "outputs": [
    {
     "data": {
      "text/plain": [
       "2.79508"
      ]
     },
     "execution_count": 11,
     "metadata": {},
     "output_type": "execute_result"
    }
   ],
   "source": [
    "# We want to know the probability that the sample proportion p is within 0.05 population proportion p=0.2\n",
    "diff = 0.05\n",
    "\n",
    "z = diff/std\n",
    "z = round(z,5)\n",
    "z"
   ]
  },
  {
   "cell_type": "code",
   "execution_count": 12,
   "metadata": {},
   "outputs": [
    {
     "name": "stdout",
     "output_type": "stream",
     "text": [
      "0.9974056563240676\n",
      "0.0025943436759323472\n"
     ]
    }
   ],
   "source": [
    "# This means we want to know the probability P(−2.79508 < z < 2.79508).\n",
    "# Using norm cdf function to find the area under the curve\n",
    "p1 = stats.norm.cdf(z)\n",
    "p2 = stats.norm.cdf(-z)\n",
    "\n",
    "print(p1)\n",
    "print(p2)"
   ]
  },
  {
   "cell_type": "code",
   "execution_count": 13,
   "metadata": {},
   "outputs": [
    {
     "name": "stdout",
     "output_type": "stream",
     "text": [
      "The probability that our sample proportion will fall within 5 % of the first study’s claim is 0.9948\n"
     ]
    }
   ],
   "source": [
    "# The probability under the normal curve between these z-scores is:\n",
    "p = p1-p2\n",
    "\n",
    "print(\"The probability that our sample proportion will fall within 5 % of the first study’s claim is\",round(p,4))"
   ]
  },
  {
   "cell_type": "markdown",
   "metadata": {},
   "source": [
    "---\n",
    "### 05 Confidence interval for a population mean"
   ]
  },
  {
   "cell_type": "markdown",
   "metadata": {},
   "source": [
    "__1.Question:__ The height of students in your school is normally distributed with a standard deviation of σ = 4 inches. You take a sample of 50 of your\n",
    "classmates and get a sample mean of x̂ = 66 inches. What is the confidence interval for a confidence level of 95 % ?"
   ]
  },
  {
   "cell_type": "markdown",
   "metadata": {},
   "source": [
    "__Explanation:__ \n",
    "\n",
    "When the population standard deviation is known, the confidence interval is given by:\n",
    "\n",
    "-  $(a,b) = \\hat{x} ± Z * σ / {\\sqrt n}$"
   ]
  },
  {
   "cell_type": "code",
   "execution_count": 14,
   "metadata": {},
   "outputs": [],
   "source": [
    "## data:\n",
    "\n",
    "# height of students, sample mean x̂ and standard deviation σ, n =50\n",
    "x_hat = 66\n",
    "std = 4\n",
    "n = 50"
   ]
  },
  {
   "cell_type": "markdown",
   "metadata": {},
   "source": [
    "We are looking fot the confidence interval for a confidence level of 95 %, from the Z table we know that Z = 1.96"
   ]
  },
  {
   "cell_type": "code",
   "execution_count": 15,
   "metadata": {},
   "outputs": [],
   "source": [
    "# Now we calculate the confidence interval using the given data\n",
    "\n",
    "z = 1.96\n",
    "a = x_hat - z*(std/sqrt(n))\n",
    "b = x_hat + z*(std/sqrt(n))"
   ]
  },
  {
   "cell_type": "code",
   "execution_count": 16,
   "metadata": {},
   "outputs": [
    {
     "name": "stdout",
     "output_type": "stream",
     "text": [
      "The confidence interval for a confidence level of 95 % is: 64.89 , 67.11\n"
     ]
    }
   ],
   "source": [
    "print(\"The confidence interval for a confidence level of 95 % is:\",round(a,2),\",\",round(b,2))"
   ]
  },
  {
   "cell_type": "markdown",
   "metadata": {},
   "source": [
    "---\n",
    "__2.Question:__ You want to know the mean number of daylight hours in a day in your city (the time between sunrise and sunset) over the course of a year.\n",
    "You take a random sample of 30 days throughout the year and get a sample mean of 𝑥̂ = 13.15 hours and a sample standard deviation of s = 0.85 hours. What is the confidence interval for a confidence level of 90 % ?"
   ]
  },
  {
   "cell_type": "markdown",
   "metadata": {},
   "source": [
    "__Explanation:__ \n",
    "\n",
    "When the population standard deviation is unknown, we use the sample standard deviation S and T distribution, so confidence interval is given by:\n",
    "\n",
    "-  $(a,b) = x̂ ± T * S / {\\sqrt n}$"
   ]
  },
  {
   "cell_type": "code",
   "execution_count": 17,
   "metadata": {},
   "outputs": [],
   "source": [
    "## data:\n",
    "\n",
    "# daylight hours in a day, sample mean x̂ and sample standard deviation σ, n = 30\n",
    "x_hat = 13.15\n",
    "s = 0.85\n",
    "n = 30"
   ]
  },
  {
   "cell_type": "markdown",
   "metadata": {},
   "source": [
    "We are looking fot the confidence interval for a confidence level of 90 %, from the T table, with n-1 (30 - 1 = 29) degres of freedom, we know that T = 1.699"
   ]
  },
  {
   "cell_type": "code",
   "execution_count": 18,
   "metadata": {},
   "outputs": [],
   "source": [
    "# Now we calculate the confidence interval using the given data\n",
    "\n",
    "t = 1.699\n",
    "a = x_hat - t*(s/sqrt(n))\n",
    "b = x_hat + t*(s/sqrt(n))"
   ]
  },
  {
   "cell_type": "code",
   "execution_count": 19,
   "metadata": {},
   "outputs": [
    {
     "name": "stdout",
     "output_type": "stream",
     "text": [
      "The confidence interval for a confidence level of 90 % is: 12.89 , 13.41\n"
     ]
    }
   ],
   "source": [
    "print(\"The confidence interval for a confidence level of 90 % is:\",round(a,2),\",\",round(b,2))"
   ]
  },
  {
   "cell_type": "markdown",
   "metadata": {},
   "source": [
    "---\n",
    "### 06 Confidence interval for a population proportion"
   ]
  },
  {
   "cell_type": "markdown",
   "metadata": {},
   "source": [
    "__1.Question:__ A study shows that 78 % of patients who try a new medication for migraines feel better within 30 minutes of taking the medicine. If the\n",
    "study involved 120 patients, construct a 95 % confidence interval for the proportion of patients who feel better within 30 minutes of taking the\n",
    "medicine."
   ]
  },
  {
   "cell_type": "markdown",
   "metadata": {},
   "source": [
    "__Explanation:__ \n",
    "\n",
    "When the population standard deviation is known, the confidence interval is given by:\n",
    "\n",
    "-  $(a,b) = p̂ ± Z *\\sqrt\\frac{p(1-p)}{n}$"
   ]
  },
  {
   "cell_type": "code",
   "execution_count": 20,
   "metadata": {},
   "outputs": [],
   "source": [
    "## data:\n",
    "\n",
    "p = 0.78\n",
    "n = 120"
   ]
  },
  {
   "cell_type": "markdown",
   "metadata": {},
   "source": [
    "We are looking fot the confidence interval for a confidence level of 95 %, from the Z table we know that Z = 1.96"
   ]
  },
  {
   "cell_type": "code",
   "execution_count": 21,
   "metadata": {},
   "outputs": [],
   "source": [
    "# Now we calculate the confidence interval using the given data\n",
    "\n",
    "z = 1.96\n",
    "a = p - z*(sqrt(p*(1-p)/n))\n",
    "b = p + z*(sqrt(p*(1-p)/n))"
   ]
  },
  {
   "cell_type": "code",
   "execution_count": 22,
   "metadata": {},
   "outputs": [
    {
     "name": "stdout",
     "output_type": "stream",
     "text": [
      "The confidence interval for a confidence level of 95 % is: 0.71 , 0.85\n"
     ]
    }
   ],
   "source": [
    "print(\"The confidence interval for a confidence level of 95 % is:\",round(a,2),\",\",round(b,2))"
   ]
  },
  {
   "cell_type": "markdown",
   "metadata": {},
   "source": [
    "---\n",
    "__2.Question:__ A study shows that 243 of 500 randomly selected households were using a family member to care for their children who were under\n",
    "preschool age. Build a 90 % confidence interval for the proportion of households using a family member to care for children under preschool age."
   ]
  },
  {
   "cell_type": "code",
   "execution_count": 23,
   "metadata": {},
   "outputs": [],
   "source": [
    "## data:\n",
    "\n",
    "p = 243/500\n",
    "n = 500"
   ]
  },
  {
   "cell_type": "markdown",
   "metadata": {},
   "source": [
    "We are looking fot the confidence interval for a confidence level of 90 %, from the Z table we know that Z = 1.65"
   ]
  },
  {
   "cell_type": "code",
   "execution_count": 24,
   "metadata": {},
   "outputs": [],
   "source": [
    "# Now we calculate the confidence interval using the given data\n",
    "\n",
    "z = 1.65\n",
    "a = p - z*(sqrt(p*(1-p)/n))\n",
    "b = p + z*(sqrt(p*(1-p)/n))"
   ]
  },
  {
   "cell_type": "code",
   "execution_count": 25,
   "metadata": {},
   "outputs": [
    {
     "name": "stdout",
     "output_type": "stream",
     "text": [
      "The confidence interval for a confidence level of 90 % is: 0.45 , 0.52\n"
     ]
    }
   ],
   "source": [
    "print(\"The confidence interval for a confidence level of 90 % is:\",round(a,2),\",\",round(b,2))"
   ]
  },
  {
   "cell_type": "markdown",
   "metadata": {},
   "source": [
    "# 07 Hypothesis testing\n",
    "Link: https://drive.google.com/drive/folders/1k23HKSl6N-4tVy5ID1GVJ6jDAp1lThBI\n",
    "\n",
    "---\n",
    "### 03 Test statistics for one- and two-tailed tests"
   ]
  },
  {
   "cell_type": "markdown",
   "metadata": {},
   "source": [
    "__1.Question:__ You’ve decided to give all of your friends a small box of homemade cookies. You’ve already baked a variety of cookies and randomly placed them into the boxes for each of your friends. You want to make sure that each box is close to 0.5 pounds. So you take a sample of 10 boxes and find a sample mean of 0.54 pounds, and a sample standard deviation of s = 0.3 pounds. Assuming that the weights of all the boxes are normally distributed, calculate the test statistic."
   ]
  },
  {
   "cell_type": "markdown",
   "metadata": {},
   "source": [
    "__Explanation:__ \n",
    "\n",
    "When the population standard deviation is unknown, but we know that the underline data are nromally distributed, t-test ststistics is given by:\n",
    "\n",
    "-  $t = \\frac{X̂ - μ_0}{\\frac{s}{\\sqrt n}} $"
   ]
  },
  {
   "cell_type": "code",
   "execution_count": 26,
   "metadata": {},
   "outputs": [],
   "source": [
    "## data:\n",
    "\n",
    "mu = 0.5\n",
    "x = 0.54\n",
    "s = 0.3\n",
    "n = 10"
   ]
  },
  {
   "cell_type": "code",
   "execution_count": 27,
   "metadata": {},
   "outputs": [],
   "source": [
    "# Now we calculate the t-test statistic, using the given data\n",
    "\n",
    "t = (x - mu)/(s/sqrt(n))"
   ]
  },
  {
   "cell_type": "code",
   "execution_count": 28,
   "metadata": {},
   "outputs": [
    {
     "name": "stdout",
     "output_type": "stream",
     "text": [
      "The t-test statistic is: 0.42\n"
     ]
    }
   ],
   "source": [
    "print(\"The t-test statistic is:\",round(t,2))"
   ]
  },
  {
   "cell_type": "markdown",
   "metadata": {},
   "source": [
    "### 05 Hypothesis testing for the population proportion"
   ]
  },
  {
   "cell_type": "markdown",
   "metadata": {},
   "source": [
    "__1.Question:__ We want to test the hypothesis that 10 % of people are left-handed, so we collect a random sample of 500 people and find that 43 of them are left-handed. What can you conclude at a significance level of α = 0.10?"
   ]
  },
  {
   "cell_type": "markdown",
   "metadata": {},
   "source": [
    "__Explanation:__ \n",
    "\n",
    "The standard error of the proportion is given by:\n",
    "\n",
    "-  $σ_\\bar{p} = \\sqrt\\frac{p_0(1-p_0)}{n}$\n",
    "\n",
    "The test statistic is given by:\n",
    "\n",
    "-  $z = \\frac{\\hat{p}-p_0}{σ_\\bar{p}}$"
   ]
  },
  {
   "cell_type": "markdown",
   "metadata": {},
   "source": [
    "First build the hypothesis statements.\n",
    "\n",
    "- H0: 10 % of people are left-handed, p = 0.1\n",
    "\n",
    "- Ha: The proportion of left-handed people is different than 10 % , p ≠ 0.1"
   ]
  },
  {
   "cell_type": "code",
   "execution_count": 29,
   "metadata": {},
   "outputs": [],
   "source": [
    "## data:\n",
    "\n",
    "p_hat = 43/500\n",
    "p_zero = 0.10\n",
    "n = 500\n",
    "alpha = 0.10"
   ]
  },
  {
   "cell_type": "code",
   "execution_count": 30,
   "metadata": {},
   "outputs": [
    {
     "data": {
      "text/plain": [
       "0.01341640786499874"
      ]
     },
     "execution_count": 30,
     "metadata": {},
     "output_type": "execute_result"
    }
   ],
   "source": [
    "# calculate the standard error:\n",
    "\n",
    "se = sqrt((p_zero*(1-p_zero))/n)\n",
    "se"
   ]
  },
  {
   "cell_type": "code",
   "execution_count": 31,
   "metadata": {},
   "outputs": [
    {
     "data": {
      "text/plain": [
       "-1.043"
      ]
     },
     "execution_count": 31,
     "metadata": {},
     "output_type": "execute_result"
    }
   ],
   "source": [
    "# calculate the test statistics:\n",
    "\n",
    "z = (p_hat-p_zero)/se\n",
    "round(z,3)"
   ]
  },
  {
   "cell_type": "markdown",
   "metadata": {},
   "source": [
    "The critical z-values for 90 % confidence with a two-tail test are z = ± 1.65. \n",
    "Since the test statistic we found is negative (z = − 1.043), we’ll compare it to z = − 1.65.\n",
    "Our z-value of z = − 1.043 is not less than z = − 1.65, and therefore falls in the region of acceptance, which means we’ll fail to reject the null hypothesis and fail to conclude that the proportion of left-handed people is different than 10 % ."
   ]
  },
  {
   "cell_type": "markdown",
   "metadata": {},
   "source": [
    "---\n",
    "__2.Question:__ We want to test the hypothesis that fewer than 80 % of Americans eat breakfast, so we collect a random sample of 650 Americans and find that 496 of them eat breakfast. What can you conclude at a significance level of α = 0.05?"
   ]
  },
  {
   "cell_type": "markdown",
   "metadata": {},
   "source": [
    "First build the hypothesis statements.\n",
    "\n",
    "- H0: 80% or more of Americans eat breakfast , p >= 0.8\n",
    "\n",
    "- Ha: fewer than 80% of Americans eat breakfast, p < 0.8\n",
    "\n",
    "It is a lower tailed test"
   ]
  },
  {
   "cell_type": "code",
   "execution_count": 32,
   "metadata": {},
   "outputs": [],
   "source": [
    "## data:\n",
    "\n",
    "p_hat = 496/650\n",
    "p_zero = 0.8\n",
    "n = 650\n",
    "alpha = 0.05"
   ]
  },
  {
   "cell_type": "code",
   "execution_count": 33,
   "metadata": {},
   "outputs": [
    {
     "data": {
      "text/plain": [
       "0.01568929081105472"
      ]
     },
     "execution_count": 33,
     "metadata": {},
     "output_type": "execute_result"
    }
   ],
   "source": [
    "# calculate the standard error:\n",
    "\n",
    "se = sqrt((p_zero*(1-p_zero))/n)\n",
    "se"
   ]
  },
  {
   "cell_type": "code",
   "execution_count": 34,
   "metadata": {},
   "outputs": [
    {
     "data": {
      "text/plain": [
       "-2.353"
      ]
     },
     "execution_count": 34,
     "metadata": {},
     "output_type": "execute_result"
    }
   ],
   "source": [
    "# calculate the test statistics:\n",
    "\n",
    "z = (p_hat-p_zero)/se\n",
    "round(z,3)"
   ]
  },
  {
   "cell_type": "markdown",
   "metadata": {},
   "source": [
    "From the z table we find that area to the left of z score (-2.353) is equal to 0.00939 which is lower than alpha (0.05) so we can reject the null hypothesis and we can say that fewer of 80% of Americans eat breakfast."
   ]
  },
  {
   "cell_type": "markdown",
   "metadata": {},
   "source": [
    "---\n",
    "__3.Question:__ We want to test the hypothesis that more than 25 % of NBA players (professional basketball players) started playing basketball before\n",
    "age 5, so we collect a random sample of 117 NBA players and find that 34 of them started playing before they turned 5. What can you conclude at a significance level of α = 0.01?"
   ]
  },
  {
   "cell_type": "markdown",
   "metadata": {},
   "source": [
    "First build the hypothesis statements.\n",
    "\n",
    "- H0: 25% or less  of NBA players started playing basketball before age 5, p =< 0.25\n",
    "\n",
    "- Ha: more than 25% of NBA players started playing basketball before age 5, p > 0.25\n",
    "\n",
    "It is a upper tailed test"
   ]
  },
  {
   "cell_type": "code",
   "execution_count": 35,
   "metadata": {},
   "outputs": [],
   "source": [
    "## data:\n",
    "\n",
    "p_hat = 34/117\n",
    "p_zero = 0.25\n",
    "n = 117\n",
    "alpha = 0.01"
   ]
  },
  {
   "cell_type": "code",
   "execution_count": 36,
   "metadata": {},
   "outputs": [
    {
     "data": {
      "text/plain": [
       "0.04003203845127178"
      ]
     },
     "execution_count": 36,
     "metadata": {},
     "output_type": "execute_result"
    }
   ],
   "source": [
    "# calculate the standard error:\n",
    "\n",
    "se = sqrt((p_zero*(1-p_zero))/n)\n",
    "se"
   ]
  },
  {
   "cell_type": "code",
   "execution_count": 37,
   "metadata": {},
   "outputs": [
    {
     "data": {
      "text/plain": [
       "1.014"
      ]
     },
     "execution_count": 37,
     "metadata": {},
     "output_type": "execute_result"
    }
   ],
   "source": [
    "# calculate the test statistics:\n",
    "\n",
    "z = (p_hat-p_zero)/se\n",
    "round(z,3)"
   ]
  },
  {
   "cell_type": "markdown",
   "metadata": {},
   "source": [
    "From the z table we find that area to the left of z score (1.014) is equal to 0.84375, so the area in the right is equal to 1 - 0.84375 = 0.15625 which is greater than alpha (0.01) so we fail to reject the null hypothesis at 0.01 confidence level."
   ]
  },
  {
   "cell_type": "markdown",
   "metadata": {},
   "source": [
    "---\n",
    "### 06 Confidence interval for the difference of means"
   ]
  },
  {
   "cell_type": "markdown",
   "metadata": {},
   "source": [
    "__1.Question:__ A professor is interested in whether exam scores differ between two nearby colleges. He selects a simple random sample of 20 students each from both colleges and finds a mean test score of 350 with a standard deviation of 15 at the first college, and a mean test score of 390 with a standard deviation of 30 at the second college. Assuming exam scores are normally distributed at both colleges, find a 95 % confidence interval around the difference in exam scores."
   ]
  },
  {
   "cell_type": "markdown",
   "metadata": {},
   "source": [
    "__Explanation:__ \n",
    "\n",
    "When the population standard deviation is unknown, and the sample size are smaller than 30, the confidence interval for 2 means, with independent samples, is given by:\n",
    "\n",
    "-  $(a,b) = \\hat{x} -\\hat{y} ± {t_\\frac{\\alpha}{2}} * \\sqrt{\\frac{S_x^2}{n_x}+\\frac{S_y^2}{n_y}}$"
   ]
  },
  {
   "cell_type": "code",
   "execution_count": 47,
   "metadata": {},
   "outputs": [],
   "source": [
    "## data:\n",
    "\n",
    "# 1st group of students\n",
    "x_hat = 390\n",
    "x_std = 30\n",
    "nx = 20\n",
    "# 2nd group of students\n",
    "y_hat = 350\n",
    "y_std = 15\n",
    "ny = 20"
   ]
  },
  {
   "cell_type": "code",
   "execution_count": 54,
   "metadata": {},
   "outputs": [
    {
     "data": {
      "text/plain": [
       "27.94117647058824"
      ]
     },
     "execution_count": 54,
     "metadata": {},
     "output_type": "execute_result"
    }
   ],
   "source": [
    "# calculate degrees of freedom, becasue we are using t-test we need to calculate them using this formula\n",
    "\n",
    "df = (((x_std**2/nx)+(y_std**2/ny))**2)/(((1/(nx-1))*(x_std**2/nx)**2)+((1/(ny-1))*(y_std**2/ny)**2))\n",
    "df"
   ]
  },
  {
   "cell_type": "code",
   "execution_count": 49,
   "metadata": {},
   "outputs": [
    {
     "name": "stdout",
     "output_type": "stream",
     "text": [
      "40\n",
      "7.5\n"
     ]
    }
   ],
   "source": [
    "# calculate difference of means and standar error\n",
    "\n",
    "diff = x_hat-y_hat \n",
    "se = sqrt((x_std**2/nx)+(y_std**2/ny))\n",
    "print(diff)\n",
    "print(se)"
   ]
  },
  {
   "cell_type": "markdown",
   "metadata": {},
   "source": [
    "Rounding down to the nearest whole number in order to keep the estimate conservative, we find 27 degrees of freedom. Together with a 95 % confidence level, the t-table gives tα/2 = 2.052."
   ]
  },
  {
   "cell_type": "code",
   "execution_count": 52,
   "metadata": {},
   "outputs": [],
   "source": [
    "# Now we calculate the confidence interval using the given data\n",
    "\n",
    "t = 2.052\n",
    "a = diff - t*se\n",
    "b = diff + t*se"
   ]
  },
  {
   "cell_type": "code",
   "execution_count": 53,
   "metadata": {},
   "outputs": [
    {
     "name": "stdout",
     "output_type": "stream",
     "text": [
      "The confidence interval for a confidence level of 95 % is: 24.61 , 55.39\n"
     ]
    }
   ],
   "source": [
    "print(\"The confidence interval for a confidence level of 95 % is:\",round(a,2),\",\",round(b,2))"
   ]
  },
  {
   "cell_type": "markdown",
   "metadata": {},
   "source": [
    "---\n",
    "__2.Question:__ Two college directors want to determine whether there’s a difference in the amount that their students spend annually on textbooks.\n",
    "They sample 200 students from college A and 230 from college B and find mean spends of x ̄A = 1,258 and x ̄B = 1,150. Assuming both populations are\n",
    "normally distributed with σA = 52 and σB = 64, find a 99 % confidence interval around the difference in annual textbook spend."
   ]
  },
  {
   "cell_type": "markdown",
   "metadata": {},
   "source": [
    "__Explanation:__ \n",
    "\n",
    "When the population standard deviation is known, the confidence interval for 2 means, with independent samples, is given by:\n",
    "\n",
    "-  $(a,b) = \\hat{x} -\\hat{y} ± Z * \\sqrt{\\frac{\\sigma_x^2}{n_x}+\\frac{\\sigma_y^2}{n_y}}$"
   ]
  },
  {
   "cell_type": "code",
   "execution_count": 67,
   "metadata": {},
   "outputs": [],
   "source": [
    "## data:\n",
    "\n",
    "# 1st group of students, A\n",
    "x_hat = 1258\n",
    "x_std = 52\n",
    "nx = 200\n",
    "# 2nd group of students, B\n",
    "y_hat = 1150\n",
    "y_std = 64\n",
    "ny = 230"
   ]
  },
  {
   "cell_type": "code",
   "execution_count": 68,
   "metadata": {},
   "outputs": [
    {
     "name": "stdout",
     "output_type": "stream",
     "text": [
      "108\n",
      "5.597204271078009\n"
     ]
    }
   ],
   "source": [
    "# calculate difference of means and standar error\n",
    "\n",
    "diff = x_hat-y_hat \n",
    "se = sqrt((x_std**2/nx)+(y_std**2/ny))\n",
    "print(diff)\n",
    "print(se)"
   ]
  },
  {
   "cell_type": "markdown",
   "metadata": {},
   "source": [
    "We are looking fot the confidence interval for a confidence level of 99 %, from the Z table we know that Z = 2.58"
   ]
  },
  {
   "cell_type": "code",
   "execution_count": 69,
   "metadata": {},
   "outputs": [],
   "source": [
    "# Now we calculate the confidence interval using the given data\n",
    "\n",
    "z = 2.58\n",
    "a = diff - z*se\n",
    "b = diff + z*se"
   ]
  },
  {
   "cell_type": "code",
   "execution_count": 70,
   "metadata": {},
   "outputs": [
    {
     "name": "stdout",
     "output_type": "stream",
     "text": [
      "The confidence interval for a confidence level of 99 % is: 93.56 , 122.44\n"
     ]
    }
   ],
   "source": [
    "print(\"The confidence interval for a confidence level of 99 % is:\",round(a,2),\",\",round(b,2))"
   ]
  },
  {
   "cell_type": "markdown",
   "metadata": {},
   "source": [
    "---\n",
    "__3.Question:__ The owners of two restaurants on the same street are interested in whether or not their daily earnings differ. They take simple random\n",
    "samples of earnings over 15 days, and find mean daily earnings of 1,365 with a standard deviation of 48 for the first restaurant, and mean daily\n",
    "earnings of 1,230 with a standard deviation of 28 for the second restaurant. Assuming daily earnings at both restaurants follow a normal distribution, find a 90 % confidence interval around the difference in daily earnings."
   ]
  },
  {
   "cell_type": "markdown",
   "metadata": {},
   "source": [
    "__Explanation:__ \n",
    "\n",
    "When the population standard deviation is unknown, and the sample size are smaller than 30, the confidence interval for 2 means, with independent samples, is given by:\n",
    "\n",
    "-  $(a,b) = \\hat{x} -\\hat{y} ± {t_\\frac{\\alpha}{2}} * \\sqrt{\\frac{S_x^2}{n_x}+\\frac{S_y^2}{n_y}}$"
   ]
  },
  {
   "cell_type": "code",
   "execution_count": 72,
   "metadata": {},
   "outputs": [],
   "source": [
    "## data:\n",
    "\n",
    "# 1st restaurant \n",
    "x_hat = 1365\n",
    "x_std = 48\n",
    "nx = 15\n",
    "# 2nd restaurant\n",
    "y_hat = 1230\n",
    "y_std = 28\n",
    "ny = 15"
   ]
  },
  {
   "cell_type": "code",
   "execution_count": 73,
   "metadata": {},
   "outputs": [
    {
     "data": {
      "text/plain": [
       "22.539050006483127"
      ]
     },
     "execution_count": 73,
     "metadata": {},
     "output_type": "execute_result"
    }
   ],
   "source": [
    "# calculate degrees of freedom, becasue we are using t-test we need to calculate them using this formula\n",
    "\n",
    "df = (((x_std**2/nx)+(y_std**2/ny))**2)/(((1/(nx-1))*(x_std**2/nx)**2)+((1/(ny-1))*(y_std**2/ny)**2))\n",
    "df"
   ]
  },
  {
   "cell_type": "code",
   "execution_count": 74,
   "metadata": {},
   "outputs": [
    {
     "name": "stdout",
     "output_type": "stream",
     "text": [
      "135\n",
      "14.348054455802245\n"
     ]
    }
   ],
   "source": [
    "# calculate difference of means and standar error\n",
    "\n",
    "diff = x_hat-y_hat \n",
    "se = sqrt((x_std**2/nx)+(y_std**2/ny))\n",
    "print(diff)\n",
    "print(se)"
   ]
  },
  {
   "cell_type": "markdown",
   "metadata": {},
   "source": [
    "Rounding down to the nearest whole number in order to keep the estimate conservative, we find 22 degrees of freedom. Together with a 90 % confidence level, the t-table gives tα/2 = 1.717."
   ]
  },
  {
   "cell_type": "code",
   "execution_count": 76,
   "metadata": {},
   "outputs": [],
   "source": [
    "# Now we calculate the confidence interval using the given data\n",
    "\n",
    "t = 1.717\n",
    "a = diff - t*se\n",
    "b = diff + t*se"
   ]
  },
  {
   "cell_type": "code",
   "execution_count": 77,
   "metadata": {},
   "outputs": [
    {
     "name": "stdout",
     "output_type": "stream",
     "text": [
      "The confidence interval for a confidence level of 90 % is: 110.36 , 159.64\n"
     ]
    }
   ],
   "source": [
    "print(\"The confidence interval for a confidence level of 90 % is:\",round(a,2),\",\",round(b,2))"
   ]
  },
  {
   "cell_type": "markdown",
   "metadata": {},
   "source": [
    "---\n",
    "### 07 Confidence interval for the difference of proportions"
   ]
  },
  {
   "cell_type": "markdown",
   "metadata": {},
   "source": [
    "__1.Question:__ A video game developer wants to know how the number of male video game players compares to the number of female players. They randomly select 500 males and 500 females and find that 368 of the males play video games, while 230 of the females play video games. Find a 95 % confidence interval around the difference between the number of male and female players."
   ]
  },
  {
   "cell_type": "markdown",
   "metadata": {},
   "source": [
    "__Explanation:__ \n",
    "\n",
    "When the population standard deviation is known, the confidence interval is given by:\n",
    "\n",
    "-  $(a,b) = (p̂_1- p̂_2) ± {z_\\frac{\\alpha}{2}} *\\sqrt{\\frac{p̂_1(1-p̂_1)}{n_1}+\\frac{p̂_2(1-p̂_2)}{n_2}}$"
   ]
  },
  {
   "cell_type": "code",
   "execution_count": 85,
   "metadata": {},
   "outputs": [
    {
     "name": "stdout",
     "output_type": "stream",
     "text": [
      "0.736\n",
      "0.46\n"
     ]
    }
   ],
   "source": [
    "## data:\n",
    "\n",
    "# male video players\n",
    "m = 368\n",
    "nx = 500\n",
    "px = m/nx\n",
    "\n",
    "# female video players\n",
    "f =230\n",
    "ny = 500\n",
    "py = f/ny\n",
    "\n",
    "print(px)\n",
    "print(py)"
   ]
  },
  {
   "cell_type": "code",
   "execution_count": 91,
   "metadata": {},
   "outputs": [
    {
     "name": "stdout",
     "output_type": "stream",
     "text": [
      "0.27599999999999997\n",
      "0.029755806156110107\n"
     ]
    }
   ],
   "source": [
    "# calculate standar error\n",
    "\n",
    "diff = px - py \n",
    "se = sqrt((px*(1-px)/nx)+(py*(1-py)/ny))\n",
    "print(diff)\n",
    "print(se)"
   ]
  },
  {
   "cell_type": "markdown",
   "metadata": {},
   "source": [
    "We are looking fot the confidence interval for a confidence level of 95 %, from the Z table we know that Z = 1.96"
   ]
  },
  {
   "cell_type": "code",
   "execution_count": 92,
   "metadata": {},
   "outputs": [],
   "source": [
    "# Now we calculate the confidence interval using the given data\n",
    "\n",
    "z = 1.96\n",
    "a = diff - z*se\n",
    "b = diff + z*se"
   ]
  },
  {
   "cell_type": "code",
   "execution_count": 94,
   "metadata": {},
   "outputs": [
    {
     "name": "stdout",
     "output_type": "stream",
     "text": [
      "The confidence interval for a confidence level of 95 % is: 0.218 , 0.334\n"
     ]
    }
   ],
   "source": [
    "print(\"The confidence interval for a confidence level of 95 % is:\",round(a,3),\",\",round(b,3))"
   ]
  },
  {
   "cell_type": "markdown",
   "metadata": {},
   "source": [
    "---\n",
    "__2.Question:__ A college director wonders about the difference between the number of male and female students who scored higher than 90 on a recent final exam. He randomly selects 25 males and 25 females and finds that 15 males and 12 females scored more than 90. Find a 99 % confidence interval around the true difference of male students and female students who scored higher than 90 on the recent exam."
   ]
  },
  {
   "cell_type": "code",
   "execution_count": 104,
   "metadata": {},
   "outputs": [
    {
     "name": "stdout",
     "output_type": "stream",
     "text": [
      "0.6\n",
      "0.48\n"
     ]
    }
   ],
   "source": [
    "## data:\n",
    "\n",
    "# male students\n",
    "m = 15\n",
    "nx = 25\n",
    "px = m/nx\n",
    "\n",
    "# female students\n",
    "f =12\n",
    "ny = 25\n",
    "py = f/ny\n",
    "\n",
    "print(px)\n",
    "print(py)"
   ]
  },
  {
   "cell_type": "code",
   "execution_count": 105,
   "metadata": {},
   "outputs": [
    {
     "name": "stdout",
     "output_type": "stream",
     "text": [
      "0.12\n",
      "0.13994284547628721\n"
     ]
    }
   ],
   "source": [
    "# calculate standar error\n",
    "\n",
    "diff = px - py \n",
    "se = sqrt((px*(1-px)/nx)+(py*(1-py)/ny))\n",
    "print(diff)\n",
    "print(se)"
   ]
  },
  {
   "cell_type": "markdown",
   "metadata": {},
   "source": [
    "We are looking fot the confidence interval for a confidence level of 99 %, from the Z table we know that Z = 2.58"
   ]
  },
  {
   "cell_type": "code",
   "execution_count": 106,
   "metadata": {},
   "outputs": [],
   "source": [
    "# Now we calculate the confidence interval using the given data\n",
    "\n",
    "z = 2.58\n",
    "a = diff - z*se\n",
    "b = diff + z*se"
   ]
  },
  {
   "cell_type": "code",
   "execution_count": 115,
   "metadata": {},
   "outputs": [
    {
     "name": "stdout",
     "output_type": "stream",
     "text": [
      "The confidence interval for a confidence level of 99 % is: -0.241 , 0.481\n",
      "Because the confidence interval includes 0, we can’t conclude that there’s a significant difference between the number of male and female students who scored higher than 90.\n"
     ]
    }
   ],
   "source": [
    "print(\"The confidence interval for a confidence level of 99 % is:\",round(a,3),\",\",round(b,3))\n",
    "print(\"Because the confidence interval includes 0, we can’t conclude that there’s a significant difference between the number of male and female students who scored higher than 90.\")"
   ]
  },
  {
   "cell_type": "markdown",
   "metadata": {},
   "source": [
    "---\n",
    "__3.Question:__ Directors at colleges A and B are interested whether there’s a difference in the number of students who work while attending their colleges. They take a random sample of 100 students from each college and find that 37 students at college A and 40 students at college B are currently working. Find a 90 % confidence interval around the difference of population proportions."
   ]
  },
  {
   "cell_type": "code",
   "execution_count": 116,
   "metadata": {},
   "outputs": [
    {
     "name": "stdout",
     "output_type": "stream",
     "text": [
      "0.37\n",
      "0.4\n"
     ]
    }
   ],
   "source": [
    "## data:\n",
    "\n",
    "# college A\n",
    "a = 37\n",
    "nx = 100\n",
    "px = a/nx\n",
    "\n",
    "# college b\n",
    "b = 40\n",
    "ny = 100\n",
    "py = b/ny\n",
    "\n",
    "print(px)\n",
    "print(py)"
   ]
  },
  {
   "cell_type": "code",
   "execution_count": 118,
   "metadata": {},
   "outputs": [
    {
     "name": "stdout",
     "output_type": "stream",
     "text": [
      "-0.030000000000000027\n",
      "0.06878226515607057\n"
     ]
    }
   ],
   "source": [
    "# calculate standar error\n",
    "\n",
    "diff = px - py \n",
    "se = sqrt((px*(1-px)/nx)+(py*(1-py)/ny))\n",
    "print(diff)\n",
    "print(se)"
   ]
  },
  {
   "cell_type": "markdown",
   "metadata": {},
   "source": [
    "We are looking fot the confidence interval for a confidence level of 90 %, from the Z table we know that Z = 1.65"
   ]
  },
  {
   "cell_type": "code",
   "execution_count": 119,
   "metadata": {},
   "outputs": [],
   "source": [
    "# Now we calculate the confidence interval using the given data\n",
    "\n",
    "z = 1.65\n",
    "a = diff - z*se\n",
    "b = diff + z*se"
   ]
  },
  {
   "cell_type": "code",
   "execution_count": 122,
   "metadata": {},
   "outputs": [
    {
     "name": "stdout",
     "output_type": "stream",
     "text": [
      "The confidence interval for a confidence level of 90 % is: -0.14 , 0.08\n",
      "Because the confidence interval includes 0, we can’t conclude that there’s a significant difference.\n"
     ]
    }
   ],
   "source": [
    "print(\"The confidence interval for a confidence level of 90 % is:\",round(a,2),\",\",round(b,2))\n",
    "print(\"Because the confidence interval includes 0, we can’t conclude that there’s a significant difference.\")"
   ]
  },
  {
   "cell_type": "markdown",
   "metadata": {},
   "source": [
    "---\n",
    "### 08 Hypothesis testing for the difference of proportions"
   ]
  },
  {
   "cell_type": "markdown",
   "metadata": {},
   "source": [
    "__1.Question:__ Assuming p1 − p2 = 0, find the value of the z-test statistic, given p̂1 = 0.295 for n1 = 130, and p̂2 = 0.226 for n2 = 110."
   ]
  },
  {
   "cell_type": "markdown",
   "metadata": {},
   "source": [
    "__Explanation:__ \n",
    "\n",
    "As long as we take independent random samples from each population, and n1p̂1 ≥ 5, n1(1 − p̂1) ≥ 5, n2p̂2 ≥ 5, and n2(1 − p̂2) ≥ 5, then the test statistic formula we’ll use is:\n",
    "\n",
    "-  $Z = \\frac{(p̂_1- p̂_2) - (p_1-p_2)}{\\sqrt{{p̂(1-p̂)}(\\frac{1}{n_1}+\\frac{1}{n_2})}}$\n",
    "\n",
    "If the null hypothesis states a zero difference between population proportions, such that p1 − p2 = 0, we can silpify the formula:\n",
    "\n",
    "-  $Z = \\frac{(p̂_1- p̂_2)}{\\sqrt{{p̂(1-p̂)}(\\frac{1}{n_1}+\\frac{1}{n_2})}}$\n",
    "\n",
    "where p̂1 and p̂2 are the sample proportions, p1 and p2 are the population proportions, n1 and n2 are the sample sizes, and p̂ is the proportion of the combined sample:\n",
    "\n",
    "-  $p̂ = \\frac{x_1 + x_2}{n_1 + n_2}$"
   ]
  },
  {
   "cell_type": "code",
   "execution_count": 130,
   "metadata": {},
   "outputs": [
    {
     "data": {
      "text/plain": [
       "0.06899999999999998"
      ]
     },
     "execution_count": 130,
     "metadata": {},
     "output_type": "execute_result"
    }
   ],
   "source": [
    "## data:\n",
    "\n",
    "# group 1\n",
    "p1 = 0.295\n",
    "n1 = 130\n",
    "\n",
    "# group 2\n",
    "p2 = 0.226\n",
    "n2 = 110\n",
    "\n",
    "p_pool = (p1*n1 + p2*n2)/(n1 + n2)\n",
    "se_pool = sqrt(p_pool*(1-p_pool)*(1/n1 + 1/n2))\n",
    "\n",
    "d = p1 - p2\n",
    "d"
   ]
  },
  {
   "cell_type": "code",
   "execution_count": 133,
   "metadata": {},
   "outputs": [
    {
     "data": {
      "text/plain": [
       "1.21"
      ]
     },
     "execution_count": 133,
     "metadata": {},
     "output_type": "execute_result"
    }
   ],
   "source": [
    "# calculate the test statistics\n",
    "# The null hypothesis states a zero difference between population proportions, such that p1 − p2 = 0:\n",
    "\n",
    "z = d/se_pool\n",
    "round(z,2)"
   ]
  },
  {
   "cell_type": "markdown",
   "metadata": {},
   "source": [
    "---\n",
    "__2.Question:__ A scientist wants to test how fast two flu drugs help patients recover from flu. He randomly assigns 100 patients each to two groups, and gives group 1 the first drug and group 2 the second drug. In the first group, 57 patients recovered from flu 5 days, while 49 patients in the second group recovered from flu in 5 days. Using a critical value approach at a 99 % confidence level, can the scientist conclude that either drug is more effective than the other?"
   ]
  },
  {
   "cell_type": "markdown",
   "metadata": {},
   "source": [
    "First build the hypothesis statements.\n",
    "\n",
    "- H0: p1 - p2 = 0\n",
    "\n",
    "- Ha: p1 - p2 ≠ 0\n",
    "\n",
    "It is a two tailed test"
   ]
  },
  {
   "cell_type": "code",
   "execution_count": 134,
   "metadata": {},
   "outputs": [
    {
     "data": {
      "text/plain": [
       "0.07999999999999996"
      ]
     },
     "execution_count": 134,
     "metadata": {},
     "output_type": "execute_result"
    }
   ],
   "source": [
    "## data:\n",
    "\n",
    "# group 1\n",
    "x1 = 57\n",
    "n1 = 100\n",
    "p1 = x1/n1\n",
    "\n",
    "# group 2\n",
    "x2 = 49\n",
    "n2 = 100\n",
    "p2 = x2/n2\n",
    "\n",
    "p_pool = (p1*n1 + p2*n2)/(n1 + n2)\n",
    "se_pool = sqrt(p_pool*(1-p_pool)*(1/n1 + 1/n2))\n",
    "\n",
    "d = p1 - p2\n",
    "d"
   ]
  },
  {
   "cell_type": "code",
   "execution_count": 142,
   "metadata": {},
   "outputs": [
    {
     "data": {
      "text/plain": [
       "0.91"
      ]
     },
     "execution_count": 142,
     "metadata": {},
     "output_type": "execute_result"
    }
   ],
   "source": [
    "# calculate the test statistics:\n",
    "# The null hypothesis states a zero difference between population proportions, such that p1 − p2 = 0\n",
    "\n",
    "z = d/se_pool\n",
    "round(z,2)"
   ]
  },
  {
   "cell_type": "markdown",
   "metadata": {},
   "source": [
    "For two-tailed test with α = 0.01, the critical value of z is 2.58. Since 1.13 < 2.58, the test statistic falls into the region of acceptance, so we fail to reject the null hypothesis, and we can’t conclude that either of the drugs is more effective than the other."
   ]
  },
  {
   "cell_type": "markdown",
   "metadata": {},
   "source": [
    "---\n",
    "__3.Question:__ 50 randomly chosen well-prepared students, and 50 randomly chosen poorly-prepared students, all took a math test. The response to a specific question was examined by the professor, who was interested whether the proportion of well-prepared students who answered the question correctly was at least 18 % higher than the proportion of poorly-prepared students who answered the question correctly. The professor found that 39 of the well-prepared and 35 of the poorly-prepared students answered the question correctly. What can he conclude at a 95 % confidence level?"
   ]
  },
  {
   "cell_type": "markdown",
   "metadata": {},
   "source": [
    "First build the hypothesis statements.\n",
    "\n",
    "- H0: p1 - p2 <= 0.18\n",
    "\n",
    "- Ha: p1 - p2 > 0.18\n",
    "\n",
    "It is a upper tailed test"
   ]
  },
  {
   "cell_type": "code",
   "execution_count": 139,
   "metadata": {},
   "outputs": [
    {
     "data": {
      "text/plain": [
       "0.08000000000000007"
      ]
     },
     "execution_count": 139,
     "metadata": {},
     "output_type": "execute_result"
    }
   ],
   "source": [
    "## data:\n",
    "\n",
    "# hypothesized proportion p\n",
    "p = 0.18\n",
    "\n",
    "# group 1\n",
    "x1 = 39\n",
    "n1 = 50\n",
    "p1 = x1/n1\n",
    "\n",
    "# group 2\n",
    "x2 = 35\n",
    "n2 = 50\n",
    "p2 = x2/n2\n",
    "\n",
    "p_pool = (p1*n1 + p2*n2)/(n1 + n2)\n",
    "se_pool = sqrt(p_pool*(1-p_pool)*(1/n1 + 1/n2))\n",
    "\n",
    "d = p1 - p2\n",
    "d"
   ]
  },
  {
   "cell_type": "code",
   "execution_count": 143,
   "metadata": {},
   "outputs": [
    {
     "data": {
      "text/plain": [
       "-1.14"
      ]
     },
     "execution_count": 143,
     "metadata": {},
     "output_type": "execute_result"
    }
   ],
   "source": [
    "# calculate the test statistics:\n",
    "# The null hypothesis states 0.18 difference between population proportions, such that p = 0.18\n",
    "\n",
    "z = (d-p)/se_pool\n",
    "round(z,2)"
   ]
  },
  {
   "cell_type": "markdown",
   "metadata": {},
   "source": [
    "For lower-tailed test with α = 0.05, the critical value of z is 1.65. Since -1.14 > 1.65, so we fail to reject the null hypothesis and therefore can’t conclude that there’s an at least 18 % difference between the well-prepared and poorly-prepared students."
   ]
  },
  {
   "cell_type": "markdown",
   "metadata": {},
   "source": [
    "---\n",
    "Sandbox:"
   ]
  },
  {
   "cell_type": "markdown",
   "metadata": {},
   "source": [
    "__Explanation:__ \n",
    "\n",
    "we can use pooled variance if our two samples were taken from the same population, and/or if neither sample variance is more than twice the other:\n",
    "\n",
    "-  $(a,b) = \\hat{x} -\\hat{y} ± {t_\\frac{\\alpha}{2}} *s_p \\sqrt{\\frac{1}{n_x}+\\frac{1}{n_y}}$\n",
    "\n",
    "with $df = n1 + n2 − 2$"
   ]
  }
 ],
 "metadata": {
  "kernelspec": {
   "display_name": "Python 3",
   "language": "python",
   "name": "python3"
  },
  "language_info": {
   "codemirror_mode": {
    "name": "ipython",
    "version": 3
   },
   "file_extension": ".py",
   "mimetype": "text/x-python",
   "name": "python",
   "nbconvert_exporter": "python",
   "pygments_lexer": "ipython3",
   "version": "3.8.5"
  }
 },
 "nbformat": 4,
 "nbformat_minor": 4
}
