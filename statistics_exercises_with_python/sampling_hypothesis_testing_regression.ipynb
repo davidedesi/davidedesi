{
 "cells": [
  {
   "cell_type": "markdown",
   "metadata": {},
   "source": [
    "# Introduction\n",
    "\n",
    "These are some exercises and quizzes from the __\"Become a Probability & Statistics Master\"__ (https://www.udemy.com/course/statistics-probability/) course on Udemy.\n",
    "\n",
    "Main topics of this notebook are\n",
    "\n",
    "- Sampling\n",
    "- Hypothesis testing\n",
    "- Regression\n",
    "\n",
    "---"
   ]
  },
  {
   "cell_type": "code",
   "execution_count": 103,
   "metadata": {},
   "outputs": [],
   "source": [
    "# Importing useful libraries\n",
    "\n",
    "import pandas as pd\n",
    "import math\n",
    "from math import sqrt\n",
    "import numpy as np\n",
    "import statistics as st\n",
    "import scipy\n",
    "from scipy import stats\n",
    "import matplotlib.pyplot as plt\n",
    "import seaborn as sns"
   ]
  },
  {
   "cell_type": "markdown",
   "metadata": {},
   "source": [
    "# 03 Data distributions\n",
    "Link: https://drive.google.com/drive/folders/1Vu56xgUToj9XqvnMqDeNCxWJmDFGSgum\n",
    "\n",
    "---\n",
    "### 01 Mean, variance, and standard deviation"
   ]
  },
  {
   "cell_type": "markdown",
   "metadata": {},
   "source": [
    "__1.Question:__ Find the mean and population standard deviation for the data set."
   ]
  },
  {
   "cell_type": "markdown",
   "metadata": {},
   "source": [
    "__Explanation__\n",
    "\n",
    "The sample space is therefore 0, 50, 100, 150, or 200. Because there are 9 possible combinations, from (0,0) to (100,100), the probability of\n",
    "winning each amount of money is\n",
    "\n",
    "    Y 0, 50, 100, 150, 200\n",
    "\n",
    "    P(Y) 1/9, 2/9, 3/9, 2/9, 1/9\n",
    "\n",
    "But the ticket cost 125, which means we need to adjust the probability distribution by subtracting the cost from each potential profit.\n",
    "\n",
    "    Y -125, -75, -25, 25, 75\n",
    "\n",
    "    P(Y) 1/9, 2/9, 3/9, 2/9, 1/9"
   ]
  },
  {
   "cell_type": "markdown",
   "metadata": {},
   "source": [
    "__Context:__ \n",
    "- the mean (also called the expected value) is: μ = (1 − p)(0) + (p)(1) ==> μ = 0 + p ==> μ = p\n",
    "\n",
    "- the standard deviation is:  $\\sqrt{σ = p(1 − p)}$"
   ]
  },
  {
   "cell_type": "markdown",
   "metadata": {},
   "source": [
    "__Answer:__ To find the probability that a success S occurs on the nth attempt, when a success has a probability of p, and therefore a failure has a probability of\n",
    "1 − p, we use this formula:\n",
    "P(S = n) = ${p(1 − p)^n−1}$"
   ]
  }
 ],
 "metadata": {
  "kernelspec": {
   "display_name": "Python 3",
   "language": "python",
   "name": "python3"
  },
  "language_info": {
   "codemirror_mode": {
    "name": "ipython",
    "version": 3
   },
   "file_extension": ".py",
   "mimetype": "text/x-python",
   "name": "python",
   "nbconvert_exporter": "python",
   "pygments_lexer": "ipython3",
   "version": "3.8.5"
  }
 },
 "nbformat": 4,
 "nbformat_minor": 4
}
