{
 "cells": [
  {
   "cell_type": "markdown",
   "metadata": {},
   "source": [
    "# Introduction\n",
    "\n",
    "These are some exercises and quizzes from the __\"Become a Probability & Statistics Master\"__ (https://www.udemy.com/course/statistics-probability/) course on Udemy.\n",
    "\n",
    "Main topics of this notebook are\n",
    "\n",
    "- Sampling\n",
    "- Hypothesis testing\n",
    "- Regression\n",
    "\n",
    "---"
   ]
  },
  {
   "cell_type": "code",
   "execution_count": 1,
   "metadata": {},
   "outputs": [],
   "source": [
    "# Importing useful libraries\n",
    "\n",
    "import pandas as pd\n",
    "import math\n",
    "from math import sqrt\n",
    "import numpy as np\n",
    "import statistics as st\n",
    "import scipy\n",
    "from scipy import stats\n",
    "import matplotlib.pyplot as plt\n",
    "import seaborn as sns"
   ]
  },
  {
   "cell_type": "markdown",
   "metadata": {},
   "source": [
    "# 06 Sampling\n",
    "Link: https://drive.google.com/drive/folders/1Vu56xgUToj9XqvnMqDeNCxWJmDFGSgum\n",
    "\n",
    "---\n",
    "### 03 Sampling distribution of the sample mean"
   ]
  },
  {
   "cell_type": "markdown",
   "metadata": {},
   "source": [
    "__1.Question:__ A hospital finds that the average birth weight of a newborn is 7.5 lbs with a standard deviation of 0.4 lbs. The hospital randomly selects 45 newborns to test this claim. What is the standard deviation of the sampling distribution?"
   ]
  },
  {
   "cell_type": "markdown",
   "metadata": {},
   "source": [
    "__Explanation:__ \n",
    "\n",
    "- the standard deviation of the sampling distribution, also called the __standard error__ is given by:  $SE = σ/\\sqrt{n}$\n",
    "\n",
    "We can used this formula because the population standard deviation σ is known."
   ]
  },
  {
   "cell_type": "code",
   "execution_count": 2,
   "metadata": {},
   "outputs": [
    {
     "name": "stdout",
     "output_type": "stream",
     "text": [
      "The standard deviation of the sampling distribution is 0.0596\n"
     ]
    }
   ],
   "source": [
    "std = 0.4\n",
    "n = 45\n",
    "\n",
    "se = std/sqrt(n)\n",
    "\n",
    "print(\"The standard deviation of the sampling distribution is\",round(se,4))"
   ]
  },
  {
   "cell_type": "markdown",
   "metadata": {},
   "source": [
    "__2.Question:__ A company produces tires in a factory. Individual tires are filled to an approximate pressure of 36 PSI (pounds per square inch), with a standard deviation of 0.8 PSI. The pressure in the tires is normally distributed. The company randomly selects 125 tires to check their pressure. What is the probability that the mean amount of pressure in the tires is within 0.1 PSI of the population mean?"
   ]
  },
  {
   "cell_type": "markdown",
   "metadata": {},
   "source": [
    "__Explanation:__ \n",
    "\n",
    "We know from the exercise that the pressure in the tyres is normally distributed, the sample is randomly selected and it is greater than 30, so we can use the Z test statistic:\n",
    "\n",
    "-  $Z test = x̂-μ/(σ/\\sqrt{n})$"
   ]
  },
  {
   "cell_type": "code",
   "execution_count": 3,
   "metadata": {},
   "outputs": [
    {
     "data": {
      "text/plain": [
       "1.39754"
      ]
     },
     "execution_count": 3,
     "metadata": {},
     "output_type": "execute_result"
    }
   ],
   "source": [
    "# We want to know the probability that the sample mean x̂ is within 0.1 PSI of the population mean.\n",
    "diff = 0.1\n",
    "std = 0.8\n",
    "n = 125\n",
    "\n",
    "z = diff/(std/sqrt(n))\n",
    "z = round(z,5)\n",
    "z"
   ]
  },
  {
   "cell_type": "code",
   "execution_count": 4,
   "metadata": {},
   "outputs": [
    {
     "name": "stdout",
     "output_type": "stream",
     "text": [
      "0.9188743765809492\n",
      "0.08112562341905083\n"
     ]
    }
   ],
   "source": [
    "# This means we want to know the probability P(−1.39754 < z < 1.39754).\n",
    "# Using norm cdf function to find the area under the curve\n",
    "p1 = stats.norm.cdf(z)\n",
    "p2 = stats.norm.cdf(-z)\n",
    "\n",
    "print(p1)\n",
    "print(p2)"
   ]
  },
  {
   "cell_type": "code",
   "execution_count": 5,
   "metadata": {},
   "outputs": [
    {
     "name": "stdout",
     "output_type": "stream",
     "text": [
      "0.838\n"
     ]
    }
   ],
   "source": [
    "# The probability under the normal curve between these z-scores is:\n",
    "p = p1-p2\n",
    "\n",
    "print(round(p,3))"
   ]
  },
  {
   "cell_type": "markdown",
   "metadata": {},
   "source": [
    "---\n",
    "### 04 Sampling distribution of the sample proportion"
   ]
  },
  {
   "cell_type": "markdown",
   "metadata": {},
   "source": [
    "__1.Question:__ A restaurant wants to know the percentage of their customers who order desert. The restaurant has 1,500 customers in one week and finds by randomly surveying 100 customers that 35 of them order desert. What is the standard deviation for the sample?"
   ]
  },
  {
   "cell_type": "markdown",
   "metadata": {},
   "source": [
    "__Explanation:__ \n",
    "\n",
    "The standard deviation of the Sampling distribution of the sample proportion is given by:\n",
    "\n",
    "-  $σ = \\sqrt\\frac{p(1-p)}{n}$"
   ]
  },
  {
   "cell_type": "code",
   "execution_count": 7,
   "metadata": {},
   "outputs": [
    {
     "name": "stdout",
     "output_type": "stream",
     "text": [
      "The standard deviation of the sampling distribution of the sample proportion is 0.047697\n"
     ]
    }
   ],
   "source": [
    "n = 100\n",
    "p = 35/100\n",
    "\n",
    "std = sqrt((p*(1-p))/n)\n",
    "\n",
    "print(\"The standard deviation of the sampling distribution of the sample proportion is\",round(std,6))"
   ]
  },
  {
   "cell_type": "markdown",
   "metadata": {},
   "source": [
    "__2.Question:__ A group of scientists is studying 10,000 manatees and finds that 20 % are calves. You want to verify the claim, but can’t conduct a study of all 10,000, so you randomly sample 500. What’s the probability that your results are within 5 % of the first study?"
   ]
  },
  {
   "cell_type": "code",
   "execution_count": 19,
   "metadata": {},
   "outputs": [
    {
     "data": {
      "text/plain": [
       "0.01788854381999832"
      ]
     },
     "execution_count": 19,
     "metadata": {},
     "output_type": "execute_result"
    }
   ],
   "source": [
    "# find the mean and standard error for the sample.\n",
    "n = 500\n",
    "p = 0.2\n",
    "\n",
    "std = sqrt((p*(1-p))/n)\n",
    "std"
   ]
  },
  {
   "cell_type": "code",
   "execution_count": 20,
   "metadata": {},
   "outputs": [
    {
     "data": {
      "text/plain": [
       "2.79508"
      ]
     },
     "execution_count": 20,
     "metadata": {},
     "output_type": "execute_result"
    }
   ],
   "source": [
    "# We want to know the probability that the sample proportion p is within 0.05 population proportion p=0.2\n",
    "diff = 0.05\n",
    "\n",
    "z = diff/std\n",
    "z = round(z,5)\n",
    "z"
   ]
  },
  {
   "cell_type": "code",
   "execution_count": 14,
   "metadata": {},
   "outputs": [
    {
     "name": "stdout",
     "output_type": "stream",
     "text": [
      "0.9974056563240676\n",
      "0.0025943436759323472\n"
     ]
    }
   ],
   "source": [
    "# This means we want to know the probability P(−2.79508 < z < 2.79508).\n",
    "# Using norm cdf function to find the area under the curve\n",
    "p1 = stats.norm.cdf(z)\n",
    "p2 = stats.norm.cdf(-z)\n",
    "\n",
    "print(p1)\n",
    "print(p2)"
   ]
  },
  {
   "cell_type": "code",
   "execution_count": 18,
   "metadata": {},
   "outputs": [
    {
     "name": "stdout",
     "output_type": "stream",
     "text": [
      "0.9948\n"
     ]
    }
   ],
   "source": [
    "# The probability under the normal curve between these z-scores is:\n",
    "p = p1-p2\n",
    "\n",
    "print(round(p,4))"
   ]
  },
  {
   "cell_type": "code",
   "execution_count": null,
   "metadata": {},
   "outputs": [],
   "source": []
  }
 ],
 "metadata": {
  "kernelspec": {
   "display_name": "Python 3",
   "language": "python",
   "name": "python3"
  },
  "language_info": {
   "codemirror_mode": {
    "name": "ipython",
    "version": 3
   },
   "file_extension": ".py",
   "mimetype": "text/x-python",
   "name": "python",
   "nbconvert_exporter": "python",
   "pygments_lexer": "ipython3",
   "version": "3.8.5"
  }
 },
 "nbformat": 4,
 "nbformat_minor": 4
}
