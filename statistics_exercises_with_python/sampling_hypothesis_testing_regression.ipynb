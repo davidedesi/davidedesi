{
 "cells": [
  {
   "cell_type": "markdown",
   "metadata": {},
   "source": [
    "# Introduction\n",
    "\n",
    "These are some exercises and quizzes from the __\"Become a Probability & Statistics Master\"__ (https://www.udemy.com/course/statistics-probability/) course on Udemy.\n",
    "\n",
    "Main topics of this notebook are\n",
    "\n",
    "- Sampling\n",
    "- Hypothesis testing\n",
    "- Regression\n",
    "\n",
    "---"
   ]
  },
  {
   "cell_type": "code",
   "execution_count": 45,
   "metadata": {},
   "outputs": [],
   "source": [
    "# Importing useful libraries\n",
    "\n",
    "import pandas as pd\n",
    "import math\n",
    "from math import sqrt\n",
    "import numpy as np\n",
    "import statistics as st\n",
    "import scipy\n",
    "from scipy import stats\n",
    "import matplotlib.pyplot as plt\n",
    "import seaborn as sns"
   ]
  },
  {
   "cell_type": "markdown",
   "metadata": {},
   "source": [
    "# 06 Sampling\n",
    "Link: https://drive.google.com/drive/folders/1Vu56xgUToj9XqvnMqDeNCxWJmDFGSgum\n",
    "\n",
    "---\n",
    "### 03 Sampling distribution of the sample mean"
   ]
  },
  {
   "cell_type": "markdown",
   "metadata": {},
   "source": [
    "__1.Question:__ A hospital finds that the average birth weight of a newborn is 7.5 lbs with a standard deviation of 0.4 lbs. The hospital randomly selects 45 newborns to test this claim. What is the standard deviation of the sampling distribution?"
   ]
  },
  {
   "cell_type": "markdown",
   "metadata": {},
   "source": [
    "__Explanation:__ \n",
    "\n",
    "- the standard deviation of the sampling distribution, also called the __standard error__ is given by:  $SE = σ/\\sqrt{n}$\n",
    "\n",
    "We can used this formula because the population standard deviation σ is known."
   ]
  },
  {
   "cell_type": "code",
   "execution_count": 46,
   "metadata": {},
   "outputs": [
    {
     "name": "stdout",
     "output_type": "stream",
     "text": [
      "The standard deviation of the sampling distribution is 0.0596\n"
     ]
    }
   ],
   "source": [
    "std = 0.4\n",
    "n = 45\n",
    "\n",
    "se = std/sqrt(n)\n",
    "\n",
    "print(\"The standard deviation of the sampling distribution is\",round(se,4))"
   ]
  },
  {
   "cell_type": "markdown",
   "metadata": {},
   "source": [
    "---\n",
    "__2.Question:__ A company produces tires in a factory. Individual tires are filled to an approximate pressure of 36 PSI (pounds per square inch), with a standard deviation of 0.8 PSI. The pressure in the tires is normally distributed. The company randomly selects 125 tires to check their pressure. What is the probability that the mean amount of pressure in the tires is within 0.1 PSI of the population mean?"
   ]
  },
  {
   "cell_type": "markdown",
   "metadata": {},
   "source": [
    "__Explanation:__ \n",
    "\n",
    "We know from the exercise that the pressure in the tyres is normally distributed, the sample is randomly selected and it is greater than 30, so we can use the Z test statistic:\n",
    "\n",
    "-  $Z test = x̂-μ/(σ/\\sqrt{n})$"
   ]
  },
  {
   "cell_type": "code",
   "execution_count": 47,
   "metadata": {},
   "outputs": [
    {
     "data": {
      "text/plain": [
       "1.39754"
      ]
     },
     "execution_count": 47,
     "metadata": {},
     "output_type": "execute_result"
    }
   ],
   "source": [
    "# We want to know the probability that the sample mean x̂ is within 0.1 PSI of the population mean.\n",
    "diff = 0.1\n",
    "std = 0.8\n",
    "n = 125\n",
    "\n",
    "z = diff/(std/sqrt(n))\n",
    "z = round(z,5)\n",
    "z"
   ]
  },
  {
   "cell_type": "code",
   "execution_count": 48,
   "metadata": {},
   "outputs": [
    {
     "name": "stdout",
     "output_type": "stream",
     "text": [
      "0.9188743765809492\n",
      "0.08112562341905083\n"
     ]
    }
   ],
   "source": [
    "# This means we want to know the probability P(−1.39754 < z < 1.39754).\n",
    "# Using norm cdf function to find the area under the curve\n",
    "p1 = stats.norm.cdf(z)\n",
    "p2 = stats.norm.cdf(-z)\n",
    "\n",
    "print(p1)\n",
    "print(p2)"
   ]
  },
  {
   "cell_type": "code",
   "execution_count": 49,
   "metadata": {},
   "outputs": [
    {
     "name": "stdout",
     "output_type": "stream",
     "text": [
      "0.838\n"
     ]
    }
   ],
   "source": [
    "# The probability under the normal curve between these z-scores is:\n",
    "p = p1-p2\n",
    "\n",
    "print(round(p,3))"
   ]
  },
  {
   "cell_type": "markdown",
   "metadata": {},
   "source": [
    "---\n",
    "### 04 Sampling distribution of the sample proportion"
   ]
  },
  {
   "cell_type": "markdown",
   "metadata": {},
   "source": [
    "__1.Question:__ A restaurant wants to know the percentage of their customers who order desert. The restaurant has 1,500 customers in one week and finds by randomly surveying 100 customers that 35 of them order desert. What is the standard deviation for the sample?"
   ]
  },
  {
   "cell_type": "markdown",
   "metadata": {},
   "source": [
    "__Explanation:__ \n",
    "\n",
    "The standard deviation of the Sampling distribution of the sample proportion is given by:\n",
    "\n",
    "-  $σ = \\sqrt\\frac{p(1-p)}{n}$"
   ]
  },
  {
   "cell_type": "code",
   "execution_count": 50,
   "metadata": {},
   "outputs": [
    {
     "name": "stdout",
     "output_type": "stream",
     "text": [
      "The standard deviation of the sampling distribution of the sample proportion is 0.047697\n"
     ]
    }
   ],
   "source": [
    "n = 100\n",
    "p = 35/100\n",
    "\n",
    "std = sqrt((p*(1-p))/n)\n",
    "\n",
    "print(\"The standard deviation of the sampling distribution of the sample proportion is\",round(std,6))"
   ]
  },
  {
   "cell_type": "markdown",
   "metadata": {},
   "source": [
    "---\n",
    "__2.Question:__ A group of scientists is studying 10,000 manatees and finds that 20 % are calves. You want to verify the claim, but can’t conduct a study of all 10,000, so you randomly sample 500. What’s the probability that your results are within 5 % of the first study?"
   ]
  },
  {
   "cell_type": "code",
   "execution_count": 51,
   "metadata": {},
   "outputs": [
    {
     "data": {
      "text/plain": [
       "0.01788854381999832"
      ]
     },
     "execution_count": 51,
     "metadata": {},
     "output_type": "execute_result"
    }
   ],
   "source": [
    "# find the mean and standard error for the sample.\n",
    "n = 500\n",
    "p = 0.2\n",
    "\n",
    "std = sqrt((p*(1-p))/n)\n",
    "std"
   ]
  },
  {
   "cell_type": "code",
   "execution_count": 52,
   "metadata": {},
   "outputs": [
    {
     "data": {
      "text/plain": [
       "2.79508"
      ]
     },
     "execution_count": 52,
     "metadata": {},
     "output_type": "execute_result"
    }
   ],
   "source": [
    "# We want to know the probability that the sample proportion p is within 0.05 population proportion p=0.2\n",
    "diff = 0.05\n",
    "\n",
    "z = diff/std\n",
    "z = round(z,5)\n",
    "z"
   ]
  },
  {
   "cell_type": "code",
   "execution_count": 53,
   "metadata": {},
   "outputs": [
    {
     "name": "stdout",
     "output_type": "stream",
     "text": [
      "0.9974056563240676\n",
      "0.0025943436759323472\n"
     ]
    }
   ],
   "source": [
    "# This means we want to know the probability P(−2.79508 < z < 2.79508).\n",
    "# Using norm cdf function to find the area under the curve\n",
    "p1 = stats.norm.cdf(z)\n",
    "p2 = stats.norm.cdf(-z)\n",
    "\n",
    "print(p1)\n",
    "print(p2)"
   ]
  },
  {
   "cell_type": "code",
   "execution_count": 54,
   "metadata": {},
   "outputs": [
    {
     "name": "stdout",
     "output_type": "stream",
     "text": [
      "The probability that our sample proportion will fall within 5 % of the first study’s claim is 0.9948\n"
     ]
    }
   ],
   "source": [
    "# The probability under the normal curve between these z-scores is:\n",
    "p = p1-p2\n",
    "\n",
    "print(\"The probability that our sample proportion will fall within 5 % of the first study’s claim is\",round(p,4))"
   ]
  },
  {
   "cell_type": "markdown",
   "metadata": {},
   "source": [
    "---\n",
    "### 05 Confidence interval for a population mean"
   ]
  },
  {
   "cell_type": "markdown",
   "metadata": {},
   "source": [
    "__1.Question:__ The height of students in your school is normally distributed with a standard deviation of σ = 4 inches. You take a sample of 50 of your\n",
    "classmates and get a sample mean of x̂ = 66 inches. What is the confidence interval for a confidence level of 95 % ?"
   ]
  },
  {
   "cell_type": "markdown",
   "metadata": {},
   "source": [
    "__Explanation:__ \n",
    "\n",
    "When the population standard deviation is known, the confidence interval is given by:\n",
    "\n",
    "-  $(a,b) = x̂ ± Z * σ / {\\sqrt n}$"
   ]
  },
  {
   "cell_type": "code",
   "execution_count": 55,
   "metadata": {},
   "outputs": [],
   "source": [
    "## data:\n",
    "\n",
    "# height of students, sample mean x̂ and standard deviation σ, n =50\n",
    "x_hat = 66\n",
    "std = 4\n",
    "n = 50"
   ]
  },
  {
   "cell_type": "markdown",
   "metadata": {},
   "source": [
    "We are looking fot the confidence interval for a confidence level of 95 %, from the Z table we know that Z = 1.96"
   ]
  },
  {
   "cell_type": "code",
   "execution_count": 56,
   "metadata": {},
   "outputs": [],
   "source": [
    "# Now we calculate the confidence interval using the given data\n",
    "\n",
    "z = 1.96\n",
    "a = x_hat - z*(std/sqrt(n))\n",
    "b = x_hat + z*(std/sqrt(n))"
   ]
  },
  {
   "cell_type": "code",
   "execution_count": 57,
   "metadata": {},
   "outputs": [
    {
     "name": "stdout",
     "output_type": "stream",
     "text": [
      "The confidence interval for a confidence level of 95 % is: 64.89 , 67.11\n"
     ]
    }
   ],
   "source": [
    "print(\"The confidence interval for a confidence level of 95 % is:\",round(a,2),\",\",round(b,2))"
   ]
  },
  {
   "cell_type": "markdown",
   "metadata": {},
   "source": [
    "---\n",
    "__2.Question:__ You want to know the mean number of daylight hours in a day in your city (the time between sunrise and sunset) over the course of a year.\n",
    "You take a random sample of 30 days throughout the year and get a sample mean of 𝑥̂ = 13.15 hours and a sample standard deviation of s = 0.85 hours. What is the confidence interval for a confidence level of 90 % ?"
   ]
  },
  {
   "cell_type": "markdown",
   "metadata": {},
   "source": [
    "__Explanation:__ \n",
    "\n",
    "When the population standard deviation is unknown, we use the sample standard deviation S and T distribution, so confidence interval is given by:\n",
    "\n",
    "-  $(a,b) = x̂ ± T * S / {\\sqrt n}$"
   ]
  },
  {
   "cell_type": "code",
   "execution_count": 58,
   "metadata": {},
   "outputs": [],
   "source": [
    "## data:\n",
    "\n",
    "# daylight hours in a day, sample mean x̂ and sample standard deviation σ, n = 30\n",
    "x_hat = 13.15\n",
    "s = 0.85\n",
    "n = 30"
   ]
  },
  {
   "cell_type": "markdown",
   "metadata": {},
   "source": [
    "We are looking fot the confidence interval for a confidence level of 90 %, from the T table, with n-1 (30 - 1 = 29) degres of freedom, we know that T = 1.699"
   ]
  },
  {
   "cell_type": "code",
   "execution_count": 59,
   "metadata": {},
   "outputs": [],
   "source": [
    "# Now we calculate the confidence interval using the given data\n",
    "\n",
    "t = 1.699\n",
    "a = x_hat - t*(s/sqrt(n))\n",
    "b = x_hat + t*(s/sqrt(n))"
   ]
  },
  {
   "cell_type": "code",
   "execution_count": 60,
   "metadata": {},
   "outputs": [
    {
     "name": "stdout",
     "output_type": "stream",
     "text": [
      "The confidence interval for a confidence level of 90 % is: 12.89 , 13.41\n"
     ]
    }
   ],
   "source": [
    "print(\"The confidence interval for a confidence level of 90 % is:\",round(a,2),\",\",round(b,2))"
   ]
  },
  {
   "cell_type": "markdown",
   "metadata": {},
   "source": [
    "---\n",
    "### 06 Confidence interval for a population proportion"
   ]
  },
  {
   "cell_type": "markdown",
   "metadata": {},
   "source": [
    "__1.Question:__ A study shows that 78 % of patients who try a new medication for migraines feel better within 30 minutes of taking the medicine. If the\n",
    "study involved 120 patients, construct a 95 % confidence interval for the proportion of patients who feel better within 30 minutes of taking the\n",
    "medicine."
   ]
  },
  {
   "cell_type": "markdown",
   "metadata": {},
   "source": [
    "__Explanation:__ \n",
    "\n",
    "When the population standard deviation is known, the confidence interval is given by:\n",
    "\n",
    "-  $(a,b) = p̂ ± Z *\\sqrt\\frac{p(1-p)}{n}$"
   ]
  },
  {
   "cell_type": "code",
   "execution_count": 61,
   "metadata": {},
   "outputs": [],
   "source": [
    "## data:\n",
    "\n",
    "p = 0.78\n",
    "n = 120"
   ]
  },
  {
   "cell_type": "markdown",
   "metadata": {},
   "source": [
    "We are looking fot the confidence interval for a confidence level of 95 %, from the Z table we know that Z = 1.96"
   ]
  },
  {
   "cell_type": "code",
   "execution_count": 62,
   "metadata": {},
   "outputs": [],
   "source": [
    "# Now we calculate the confidence interval using the given data\n",
    "\n",
    "z = 1.96\n",
    "a = p - z*(sqrt(p*(1-p)/n))\n",
    "b = p + z*(sqrt(p*(1-p)/n))"
   ]
  },
  {
   "cell_type": "code",
   "execution_count": 63,
   "metadata": {},
   "outputs": [
    {
     "name": "stdout",
     "output_type": "stream",
     "text": [
      "The confidence interval for a confidence level of 95 % is: 0.71 , 0.85\n"
     ]
    }
   ],
   "source": [
    "print(\"The confidence interval for a confidence level of 95 % is:\",round(a,2),\",\",round(b,2))"
   ]
  },
  {
   "cell_type": "markdown",
   "metadata": {},
   "source": [
    "---\n",
    "__2.Question:__ A study shows that 243 of 500 randomly selected households were using a family member to care for their children who were under\n",
    "preschool age. Build a 90 % confidence interval for the proportion of households using a family member to care for children under preschool age."
   ]
  },
  {
   "cell_type": "code",
   "execution_count": 64,
   "metadata": {},
   "outputs": [],
   "source": [
    "## data:\n",
    "\n",
    "p = 243/500\n",
    "n = 500"
   ]
  },
  {
   "cell_type": "markdown",
   "metadata": {},
   "source": [
    "We are looking fot the confidence interval for a confidence level of 95 %, from the Z table we know that Z = 1.65"
   ]
  },
  {
   "cell_type": "code",
   "execution_count": 65,
   "metadata": {},
   "outputs": [],
   "source": [
    "# Now we calculate the confidence interval using the given data\n",
    "\n",
    "z = 1.65\n",
    "a = p - z*(sqrt(p*(1-p)/n))\n",
    "b = p + z*(sqrt(p*(1-p)/n))"
   ]
  },
  {
   "cell_type": "code",
   "execution_count": 66,
   "metadata": {},
   "outputs": [
    {
     "name": "stdout",
     "output_type": "stream",
     "text": [
      "The confidence interval for a confidence level of 90 % is: 0.45 , 0.52\n"
     ]
    }
   ],
   "source": [
    "print(\"The confidence interval for a confidence level of 90 % is:\",round(a,2),\",\",round(b,2))"
   ]
  },
  {
   "cell_type": "markdown",
   "metadata": {},
   "source": [
    "# 07 Hypothesis testing\n",
    "Link: https://drive.google.com/drive/folders/1k23HKSl6N-4tVy5ID1GVJ6jDAp1lThBI\n",
    "\n",
    "---\n",
    "### 03 Test statistics for one- and two-tailed tests"
   ]
  },
  {
   "cell_type": "markdown",
   "metadata": {},
   "source": [
    "__1.Question:__ You’ve decided to give all of your friends a small box of homemade cookies. You’ve already baked a variety of cookies and randomly placed them into the boxes for each of your friends. You want to make sure that each box is close to 0.5 pounds. So you take a sample of 10 boxes and find a sample mean of 0.54 pounds, and a sample standard deviation of s = 0.3 pounds. Assuming that the weights of all the boxes are normally distributed, calculate the test statistic."
   ]
  },
  {
   "cell_type": "markdown",
   "metadata": {},
   "source": [
    "__Explanation:__ \n",
    "\n",
    "When the population standard deviation is unknown, but we know that the underline data are nromally distributed, t-test ststistics is given by:\n",
    "\n",
    "-  $t = \\frac{X̂ - μ_0}{\\frac{s}{\\sqrt n}} $"
   ]
  },
  {
   "cell_type": "code",
   "execution_count": 67,
   "metadata": {},
   "outputs": [],
   "source": [
    "## data:\n",
    "\n",
    "mu = 0.5\n",
    "x = 0.54\n",
    "s = 0.3\n",
    "n = 10"
   ]
  },
  {
   "cell_type": "code",
   "execution_count": 68,
   "metadata": {},
   "outputs": [],
   "source": [
    "# Now we calculate the t-test statistic, using the given data\n",
    "\n",
    "t = (x - mu)/(s/sqrt(n))"
   ]
  },
  {
   "cell_type": "code",
   "execution_count": 69,
   "metadata": {},
   "outputs": [
    {
     "name": "stdout",
     "output_type": "stream",
     "text": [
      "The t-test statistic is: 0.42\n"
     ]
    }
   ],
   "source": [
    "print(\"The t-test statistic is:\",round(t,2))"
   ]
  },
  {
   "cell_type": "markdown",
   "metadata": {},
   "source": [
    "### 05 Hypothesis testing for the population proportion"
   ]
  },
  {
   "cell_type": "markdown",
   "metadata": {},
   "source": [
    "__1.Question:__ We want to test the hypothesis that 10 % of people are left-handed, so we collect a random sample of 500 people and find that 43 of them are left-handed. What can you conclude at a significance level of α = 0.10?"
   ]
  },
  {
   "cell_type": "markdown",
   "metadata": {},
   "source": [
    "__Explanation:__ \n",
    "\n",
    "The standard error of the proportion is given by:\n",
    "\n",
    "-  $σ_\\bar{p} = \\sqrt\\frac{p_0(1-p_0)}{n}$\n",
    "\n",
    "The test statistic is given by:\n",
    "\n",
    "-  $z = \\frac{\\hat{p}-p_0}{σ_\\bar{p}}$"
   ]
  },
  {
   "cell_type": "markdown",
   "metadata": {},
   "source": [
    "First build the hypothesis statements.\n",
    "\n",
    "- H0: 10 % of people are left-handed, p = 0.1\n",
    "\n",
    "- Ha: The proportion of left-handed people is different than 10 % , p ≠ 0.1"
   ]
  },
  {
   "cell_type": "code",
   "execution_count": 70,
   "metadata": {},
   "outputs": [],
   "source": [
    "## data:\n",
    "\n",
    "p_hat = 43/500\n",
    "p_zero = 0.10\n",
    "n = 500\n",
    "alpha = 0.10"
   ]
  },
  {
   "cell_type": "code",
   "execution_count": 71,
   "metadata": {},
   "outputs": [
    {
     "data": {
      "text/plain": [
       "0.01341640786499874"
      ]
     },
     "execution_count": 71,
     "metadata": {},
     "output_type": "execute_result"
    }
   ],
   "source": [
    "# calculate the standard error:\n",
    "\n",
    "se = sqrt((p_zero*(1-p_zero))/n)\n",
    "se"
   ]
  },
  {
   "cell_type": "code",
   "execution_count": 72,
   "metadata": {},
   "outputs": [
    {
     "data": {
      "text/plain": [
       "-1.043"
      ]
     },
     "execution_count": 72,
     "metadata": {},
     "output_type": "execute_result"
    }
   ],
   "source": [
    "# calculate the test statistics:\n",
    "\n",
    "z = (p_hat-p_zero)/se\n",
    "round(z,3)"
   ]
  },
  {
   "cell_type": "markdown",
   "metadata": {},
   "source": [
    "The critical z-values for 90 % confidence with a two-tail test are z = ± 1.65. \n",
    "Since the test statistic we found is negative (z = − 1.043), we’ll compare it to z = − 1.65.\n",
    "Our z-value of z = − 1.043 is not less than z = − 1.65, and therefore falls in the region of acceptance, which means we’ll fail to reject the null hypothesis and fail to conclude that the proportion of left-handed people is different than 10 % ."
   ]
  },
  {
   "cell_type": "markdown",
   "metadata": {},
   "source": [
    "---\n",
    "__2.Question:__ We want to test the hypothesis that fewer than 80 % of Americans eat breakfast, so we collect a random sample of 650 Americans and find that 496 of them eat breakfast. What can you conclude at a significance level of α = 0.05?"
   ]
  },
  {
   "cell_type": "markdown",
   "metadata": {},
   "source": [
    "First build the hypothesis statements.\n",
    "\n",
    "- H0: 80% or more of Americans eat breakfast , p >= 0.8\n",
    "\n",
    "- Ha: fewer than 80% of Americans eat breakfast, p < 0.8\n",
    "\n",
    "It is a lower tailed test"
   ]
  },
  {
   "cell_type": "code",
   "execution_count": 73,
   "metadata": {},
   "outputs": [],
   "source": [
    "## data:\n",
    "\n",
    "p_hat = 496/650\n",
    "p_zero = 0.8\n",
    "n = 650\n",
    "alpha = 0.05"
   ]
  },
  {
   "cell_type": "code",
   "execution_count": 74,
   "metadata": {},
   "outputs": [
    {
     "data": {
      "text/plain": [
       "0.01568929081105472"
      ]
     },
     "execution_count": 74,
     "metadata": {},
     "output_type": "execute_result"
    }
   ],
   "source": [
    "# calculate the standard error:\n",
    "\n",
    "se = sqrt((p_zero*(1-p_zero))/n)\n",
    "se"
   ]
  },
  {
   "cell_type": "code",
   "execution_count": 80,
   "metadata": {},
   "outputs": [
    {
     "data": {
      "text/plain": [
       "-2.353"
      ]
     },
     "execution_count": 80,
     "metadata": {},
     "output_type": "execute_result"
    }
   ],
   "source": [
    "# calculate the test statistics:\n",
    "\n",
    "z = (p_hat-p_zero)/se\n",
    "round(z,3)"
   ]
  },
  {
   "cell_type": "markdown",
   "metadata": {},
   "source": [
    "From the z table we find that area to the left of z score (-2.353) is equal to 0.00939 which is lower than alpha (0.05) so we can reject the null hypothesis and we can say that fewer of 80% of Americans eat breakfast."
   ]
  },
  {
   "cell_type": "markdown",
   "metadata": {},
   "source": [
    "---\n",
    "__3.Question:__ We want to test the hypothesis that more than 25 % of NBA players (professional basketball players) started playing basketball before\n",
    "age 5, so we collect a random sample of 117 NBA players and find that 34 of them started playing before they turned 5. What can you conclude at a significance level of α = 0.01?"
   ]
  },
  {
   "cell_type": "markdown",
   "metadata": {},
   "source": [
    "First build the hypothesis statements.\n",
    "\n",
    "- H0: 25% or less  of NBA players started playing basketball before age 5, p =< 0.25\n",
    "\n",
    "- Ha: more than 25% of NBA players started playing basketball before age 5, p > 0.25\n",
    "\n",
    "It is a upper tailed test"
   ]
  },
  {
   "cell_type": "code",
   "execution_count": 81,
   "metadata": {},
   "outputs": [],
   "source": [
    "## data:\n",
    "\n",
    "p_hat = 34/117\n",
    "p_zero = 0.25\n",
    "n = 117\n",
    "alpha = 0.01"
   ]
  },
  {
   "cell_type": "code",
   "execution_count": 82,
   "metadata": {},
   "outputs": [
    {
     "data": {
      "text/plain": [
       "0.04003203845127178"
      ]
     },
     "execution_count": 82,
     "metadata": {},
     "output_type": "execute_result"
    }
   ],
   "source": [
    "# calculate the standard error:\n",
    "\n",
    "se = sqrt((p_zero*(1-p_zero))/n)\n",
    "se"
   ]
  },
  {
   "cell_type": "code",
   "execution_count": 83,
   "metadata": {},
   "outputs": [
    {
     "data": {
      "text/plain": [
       "1.014"
      ]
     },
     "execution_count": 83,
     "metadata": {},
     "output_type": "execute_result"
    }
   ],
   "source": [
    "# calculate the test statistics:\n",
    "\n",
    "z = (p_hat-p_zero)/se\n",
    "round(z,3)"
   ]
  },
  {
   "cell_type": "markdown",
   "metadata": {},
   "source": [
    "From the z table we find that area to the left of z score (1.014) is equal to 0.84375, so the area in the right is equal to 1 - 0.84375 = 0.15625 which is greater than alpha (0.01) so we fail to reject the null hypothesis at 0.01 confidence level."
   ]
  },
  {
   "cell_type": "code",
   "execution_count": null,
   "metadata": {},
   "outputs": [],
   "source": []
  }
 ],
 "metadata": {
  "kernelspec": {
   "display_name": "Python 3",
   "language": "python",
   "name": "python3"
  },
  "language_info": {
   "codemirror_mode": {
    "name": "ipython",
    "version": 3
   },
   "file_extension": ".py",
   "mimetype": "text/x-python",
   "name": "python",
   "nbconvert_exporter": "python",
   "pygments_lexer": "ipython3",
   "version": "3.8.5"
  }
 },
 "nbformat": 4,
 "nbformat_minor": 4
}
